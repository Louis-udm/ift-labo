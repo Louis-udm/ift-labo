{
 "metadata": {
  "name": ""
 },
 "nbformat": 3,
 "nbformat_minor": 0,
 "worksheets": [
  {
   "cells": [
    {
     "cell_type": "heading",
     "level": 1,
     "metadata": {},
     "source": [
      "Un peu de th\u00e9orie sur k-PPV"
     ]
    },
    {
     "cell_type": "heading",
     "level": 2,
     "metadata": {},
     "source": [
      "Motivation intuitive"
     ]
    },
    {
     "cell_type": "markdown",
     "metadata": {},
     "source": [
      "L'algorithme des $k$ plus proches voisins ($k$-PPV) est certainement un des algorithmes les plus simples d'apprentissage automatique. Il est motiv\u00e9 par l'id\u00e9e que des *entr\u00e9es* $x_t$ semblables devraient avoir des *cibles* $y_t$ semblables. Ainsi, pour bien d\u00e9finir un algorithme $k$-PPV, il suffit de d\u00e9finir ce que veut dire *semblable* dans le contexte des entr\u00e9es et de d\u00e9finir l'influence de ces voisins sur la pr\u00e9diction de la cible pour une entr\u00e9e de test.\n",
      "\n",
      "Donc, pour obtenir une pr\u00e9diction de la cible pour une entr\u00e9e de test $x$, il suffit de trouver les k plus proches voisins selon une m\u00e9trique d\u00e9terminant jusqu'\u00e0 quel point des entr\u00e9es sont semblables (par exemple, la distance eucl\u00e9dienne ou norme $L^2$, ou de fa\u00e7on plus g\u00e9n\u00e9rale la norme $L^p$ de Minkowski) et d'utiliser ces $k$ plus proches voisins pour pr\u00e9dire la cible de $x$. Dans un probl\u00e8me de classification, la pr\u00e9diction correspond \u00e0 la classe majoritaire parmi les $k$ plus proches voisins, i.e. que l'ensemble des $k$ plus proches voisins votent pour la classe correspondant \u00e0 leur cible respective et la classe recueillant le plus de vote est choisie en tant que pr\u00e9diction par l'algorithme."
     ]
    },
    {
     "cell_type": "heading",
     "level": 2,
     "metadata": {},
     "source": [
      "Formalisation math\u00e9matique"
     ]
    },
    {
     "cell_type": "markdown",
     "metadata": {},
     "source": [
      "Soit\n",
      "\n",
      "* $x$ une entr\u00e9e de test\n",
      "* $m$ le nombre de classes\n",
      "* $D_n = \\{(x_t,y_t)\\}_{t=1}^n$ l'ensemble d'entra\u00eenement, o\u00f9 $y \\in Y=\\{1,\\dots,m\\}$ correspond \u00e0 l'identit\u00e9 de la classe cible de l'entr\u00e9e $x_t$\n",
      "* $d(\\dot{},\\dot{})$ une fonction de distance\n",
      "* $V(x,T,d(\\dot{},\\dot{}),k)$ l'ensemble des $k$ plus proches voisins de $x$ parmi les entr\u00e9es de $T$ ainsi que leur cible associ\u00e9e"
     ]
    },
    {
     "cell_type": "markdown",
     "metadata": {},
     "source": [
      "La pr\u00e9diction de classification par l'algorithme des k plus proches voisins est donc:\n",
      "\n",
      "> $$f(x) = {\\mbox{arg max}} \\left( \\frac{1}{k} \\sum_{(x_i,y_i) \\in V(x)} \\mathrm{onehot}_{m}(y_i) \\right)$$\n",
      "\n",
      "Une fonction de distance couramment utilis\u00e9e est la distance eucl\u00e9dienne:\n",
      "\n",
      "> $$d(a,b)= \\sqrt{\\sum_{i=1}^d(a_i-b_i)^2}$$\n",
      "\n",
      "qui est un cas sp\u00e9cifique, avec $p=2$, de la norme $L^p$ de Minkowski:\n",
      "\n",
      "> $$d(a,b)= \\left(\\sum_{i=1}^d|a_i-b_i|^p\\right)^\\frac{1}{p}$$"
     ]
    },
    {
     "cell_type": "heading",
     "level": 2,
     "metadata": {},
     "source": [
      "Pseudo-code"
     ]
    },
    {
     "cell_type": "markdown",
     "metadata": {},
     "source": [
      "On d\u00e9finit un algorithme d'apprentissage en pr\u00e9cisant sa proc\u00e9dure d'entra\u00eenement et de pr\u00e9diction pour une nouvelle entr\u00e9e de test. \u00c9tant donn\u00e9 que la proc\u00e9dure d'entra\u00eenement de l'algorithme $k$-PPV consiste simplement \u00e0 mettre en m\u00e9moire l'ensemble d'entra\u00eenement $D_n$, voici donc la proc\u00e9dure de pr\u00e9diction:\n",
      "\n",
      "    definition k-PPV(x)\n",
      "        pour i=1 \u00e0 m\n",
      "            faire \n",
      "            c[i]=0\n",
      "            \n",
      "        pour i=1 \u00e0 k\n",
      "            faire \n",
      "            voisins[i] = Null\n",
      "            dists[i] = inf\n",
      "    \n",
      "        pour t=1 \u00e0 n\n",
      "            faire\n",
      "            dt = d(X[t],x)\n",
      "            j = argmax(dists)\n",
      "            si dt < dists[j]\n",
      "                alors\n",
      "                voisins[j] = (X[t],Y[t])\n",
      "                dists[j] = dt\n",
      "                \n",
      "        pour i=1 \u00e0 k\n",
      "            faire\n",
      "            si voisins[i]!=Null\n",
      "                alors\n",
      "                X[i],Y[i] = voisins[i]\n",
      "                c[Y[i]] = c[Y[i]] + 1\n",
      "                \n",
      "        retourner argmax(c)\n",
      "        \n",
      "Lorsque `dist` est une liste non tri\u00e9e, la proc\u00e9dure de pr\u00e9diction s'ex\u00e9cute en temps $O(n(k+d))$. Il est cependant possible d'obtenir un temps d'ex\u00e9cution dans $O(n(log(k)+d))$, en utilisant une queue de priorit\u00e9 (monceau)."
     ]
    },
    {
     "cell_type": "heading",
     "level": 2,
     "metadata": {},
     "source": [
      "Impl\u00e9mentations"
     ]
    },
    {
     "cell_type": "markdown",
     "metadata": {},
     "source": [
      "Voici quelques applets accessibles sur le web, permettant de visualiser les propri\u00e9t\u00e9s de l'algorithme des k plus proches voisins:\n",
      "\n",
      " \n",
      "\n",
      "* Classification binaire\n",
      "  1. http://www.cs.cmu.edu/~zhuxj/courseproject/knndemo/KNN.html\n",
      "  2. http://www.cs.technion.ac.il/~rani/LocBoost/index.html\n",
      "* Estimation de densit\u00e9\n",
      "  1. http://www.eee.metu.edu.tr/~alatan/Courses/Demo/AppletKnn.html\n"
     ]
    },
    {
     "cell_type": "heading",
     "level": 1,
     "metadata": {},
     "source": [
      "La mise en pratique!"
     ]
    },
    {
     "cell_type": "heading",
     "level": 2,
     "metadata": {},
     "source": [
      "En guise d'introduction"
     ]
    },
    {
     "cell_type": "markdown",
     "metadata": {},
     "source": [
      "On vous demande de concevoir un algorithme d'apprentissage permettant d'identifier des fleurs sur un convoyeur. Il s'agit de trois vari\u00e9t\u00e9s d'iris. Le convoyeur est dot\u00e9 d'une cam\u00e9ra capable de mesurer les longueurs et largeurs des p\u00e9tales et s\u00e9pales de chaque fleur. C'est \u00e0 partir de ces caract\u00e9ristiques (traits) que vous devez d\u00e9terminer la sorte de chaque fleur (la classe). Vous ne connaissez rien aux fleurs! Fort heureusement vous disposez d'un ensemble d'entra\u00eenement associant \u00e0 divers exemples de mesures d'iris la bonne vari\u00e9t\u00e9 (classe). Arm\u00e9 de l'algo 1-PPV et de Python vous foncez t\u00eate baiss\u00e9e."
     ]
    },
    {
     "cell_type": "heading",
     "level": 2,
     "metadata": {},
     "source": [
      "Comment calculer une distance $L^p$ (Minkowski) entre deux vecteurs"
     ]
    },
    {
     "cell_type": "markdown",
     "metadata": {},
     "source": [
      "Passons maintenant aux choses s\u00e9rieuses. On d\u00e9sire obtenir la fonction `minkowski_vec` qui nous permet de comparer deux fleurs sur la base de leurs traits. Compl\u00e9tez la fonction suivante, puis testez-la sur deux exemples d'iris (revoir au besoin la d\u00e9mo 2 pour l'acc\u00e8s et l'importation de l'ensemble de donn\u00e9es iris). \n",
      "\n"
     ]
    },
    {
     "cell_type": "code",
     "collapsed": false,
     "input": [
      "import numpy as np\n",
      "\n",
      "def minkowski_vec(x1,x2,p=2.0):\n",
      "    diff = (np.abs(x1-x2)**p).sum()**(1.0/p)\n",
      "    return diff\n",
      "\n",
      "# pour tester\n",
      "a = np.ones((10,5))\n",
      "b = np.zeros((10,5))\n",
      "print minkowski_vec(a[0],b[0])\n",
      "print minkowski_vec(a[0],a[0])"
     ],
     "language": "python",
     "metadata": {},
     "outputs": [
      {
       "output_type": "stream",
       "stream": "stdout",
       "text": [
        "2.2360679775\n",
        "0.0\n"
       ]
      }
     ],
     "prompt_number": 2
    },
    {
     "cell_type": "markdown",
     "metadata": {},
     "source": [
      "Rappelez-vous la [d\u00e9finition](http://en.wikipedia.org/wiki/Minkowski_distance) de la distance. \n",
      "\n",
      "**Chose importante:** on peut calculer cette distance en it\u00e9rant sur chaque composante de x1 et x2, et en calculant la somme apr\u00e8s, ou on peut profiter du fait que la plupart (ou m\u00eame toutes) des op\u00e9rations math\u00e9matiques (abs, +, -, \\*\\* etc.) sur des structures de donn\u00e9es it\u00e9rables (listes, vecteurs/matrices) produisent des r\u00e9sultats \u00e9quivalents \u00e0 l'application d'une boucle for, mais en beaucoup moins de temps (on parle des langages interpr\u00e9t\u00e9s comme Python). Par exemple, on peut calculer la somme de la diff\u00e9rence des valeurs absolues de x1 et x2 comme\n",
      "\n",
      "    s = 0\n",
      "    for i in range(x1.shape[0]):\n",
      "        s = s + abs(x1[i] - x2[i])\n",
      "\n",
      "ou simplement\n",
      "\n",
      "    s = numpy.sum(numpy.abs(x1 - x2))\n",
      "\n",
      "En plus d'\u00eatre plus compacte, la deuxi\u00e8me option est beaucoup plus rapide (parce qu'elle fait appel \u00e0 une impl\u00e9mentation efficace de sum et abs en C++).\n"
     ]
    },
    {
     "cell_type": "heading",
     "level": 2,
     "metadata": {},
     "source": [
      "Comment calculer une distance $L^p$ entre un vecteur et une matrice"
     ]
    },
    {
     "cell_type": "markdown",
     "metadata": {},
     "source": [
      "Il nous faut aussi une fonction qui va nous permettre de comparer une fleur avec tout un ensemble de fleurs, sur la base de leurs traits. On va maintenant modifier la fonction `minkowski` pour calculer une *distance* $L^p$ entre un vecteur et une matrice (c.a.d. une fonction qui va nous retourner un vecteur de distances $L^p$)"
     ]
    },
    {
     "cell_type": "code",
     "collapsed": false,
     "input": [
      "def minkowski_mat(x,Y,p=2.0):\n",
      "    dist = (np.abs(x-Y)**p).sum(1)**(1.0/p)\n",
      "    return dist\n",
      "\n",
      "# pour tester\n",
      "a = np.ones((10,5))\n",
      "b = np.zeros((10,5))\n",
      "print minkowski_mat(a,b)\n",
      "print minkowski_mat(a,a)"
     ],
     "language": "python",
     "metadata": {},
     "outputs": [
      {
       "output_type": "stream",
       "stream": "stdout",
       "text": [
        "[ 2.23606798  2.23606798  2.23606798  2.23606798  2.23606798  2.23606798\n",
        "  2.23606798  2.23606798  2.23606798  2.23606798]\n",
        "[ 0.  0.  0.  0.  0.  0.  0.  0.  0.  0.]\n"
       ]
      }
     ],
     "prompt_number": 3
    },
    {
     "cell_type": "markdown",
     "metadata": {},
     "source": [
      "Comme pour `minkowski_vec`, il y a deux mani\u00e8res de proc\u00e9der:\n",
      " \n",
      "1. *Simple et inefficace:* en \u00e9crivant une boucle qui appelle la fonction `minkowski_vec(x,Y[i,:],p)` et garde les r\u00e9sultats dans le vecteur `dist`.\n",
      "2. *Plus compliqu\u00e9 mais plus efficace:* en utilisant le fait que `numpy` fait quelque chose d'intelligent quand il \u00e9value `x-Y`, car il retourne une matrice qui contient le vecteur `x-Y[i,:]` sur la rang\u00e9e $i$ (le m\u00e9canisme qui rend cela possible s'appelle *broadcasting*). Voici une solution:\n",
      "\n",
      "        def minkowski_mat(x,Y,p=2.0):\n",
      "            diff = x - Y # diff sera une matrice\n",
      "            absdiff = abs(diff) # absdiff sera une matrice\n",
      "            powdiff = absdiff**p # powdiff sera une matrice\n",
      "            s = numpy.sum(powdiff,axis=1) # calcule la somme de chaque rang\u00e9e, s est un vecteur\n",
      "            dist = s**(1.0/p) # dist sera un vecteur aussi\n",
      "            return dist\n",
      "\n",
      "    ou bien\n",
      "\n",
      "        def minkowski_mat(x,Y,p=2.0):\n",
      "            return (numpy.sum((abs(x-Y))**p,axis=1))**(1.0/p) "
     ]
    },
    {
     "cell_type": "markdown",
     "metadata": {},
     "source": [
      "Encore une fois, chose importante \u00e0 retenir:  \n",
      "**la  grande majorit\u00e9 des op\u00e9rations vecteur-vecteur, vecteur-matrice ou bien matrice-matrice seront beaucoup plus efficaces en utilisant les\n",
      "op\u00e9rateurs numpy au lieu d'une boucle for.** (les raisons \u00e9tant,  entre autres, le fait que python est un langage interpr\u00e9t\u00e9 et que numpy a  des impl\u00e9mentations tr\u00e8s efficace pour certaines op\u00e9rations vectorielles).\n",
      " \n",
      "Vous avez peut-\u00eatre remarqu\u00e9 que la diff\u00e9rence entre les impl\u00e9mentations efficaces de `minkowski_vec` et `minkowski_mat` est seulement la partie: `axis=1`. L'exercice est de comprendre pourquoi il est n\u00e9cessaire de sp\u00e9cifier sur quel *axe* on va faire la somme."
     ]
    },
    {
     "cell_type": "heading",
     "level": 2,
     "metadata": {},
     "source": [
      "1-PPV"
     ]
    },
    {
     "cell_type": "markdown",
     "metadata": {},
     "source": [
      "Enfin, nous y sommes! Compl\u00e9tez la fonction suivante et v\u00e9rifiez son efficacit\u00e9. "
     ]
    },
    {
     "cell_type": "code",
     "collapsed": false,
     "input": [
      "def ppv(x,data,p=2): \n",
      "    caract = data[:,:-1]\n",
      "    cibles = data[:,-1]\n",
      "    dist = minkowski_mat(x, caract, p)\n",
      "    return cibles[np.argmin(dist)]"
     ],
     "language": "python",
     "metadata": {},
     "outputs": [],
     "prompt_number": 4
    },
    {
     "cell_type": "markdown",
     "metadata": {},
     "source": [
      "\u00c0 noter ici que `x` est le vecteur de caract\u00e9ristiques (sans \u00e9tiquette) de l'exemple de test. Ayant en mains la fonction `minkowski_mat`, les choses devrait \u00eatre simple, car dist va contenir un vecteur/liste des distances. En utilisant `numpy.argmin` on va trouver l'exemple/la fleur qui est la plus *proche* (dans le sens de minkowski) de `x` et ainsi, on va conclure que l'\u00e9tiquette (pr\u00e9dite) de `x` est celle de cet exemple."
     ]
    },
    {
     "cell_type": "heading",
     "level": 2,
     "metadata": {},
     "source": [
      "Conclusion"
     ]
    },
    {
     "cell_type": "markdown",
     "metadata": {},
     "source": [
      "Nous avons maintenant en notre possession toutes les composantes de l'algorithme 1-PPV. Il reste simplement \u00e0 en faire l'assemblage et \u00e0 tester le tout. \n",
      "\n",
      ">Rappelez vous que les fonctions d\u00e9finies dans les cellules de code pr\u00e9c\u00e9dentes sont accessibles dans toutes les cellules subs\u00e9quentes une fois les pr\u00e9c\u00e9dentes ex\u00e9cut\u00e9s.\n",
      "\n",
      "Afin de tester votre impl\u00e9mentation, \u00e9crivez une boucle `for` qui appelle, pour chaque exemple `i`, la fonction `ppv(iris[i,:-1],iris,p)` et qui compare la classe pr\u00e9dite avec `iris[i,-1]` (la vrai \u00e9tiquette). Les deux devraient toujours \u00eatre les m\u00eames (pourquoi?)."
     ]
    },
    {
     "cell_type": "code",
     "collapsed": false,
     "input": [
      "import numpy as np\n",
      "iris = np.loadtxt('iris.txt')\n",
      "\n",
      "predictions = np.zeros(iris.shape[0])\n",
      "for i in range(iris.shape[0]):\n",
      "    predictions[i] = ppv(iris[i,:-1],iris)\n",
      "    \n",
      "cibles = iris[:,-1]\n",
      "print \"taux d'erreur:\",(1.0-(predictions==cibles).mean())*100.0"
     ],
     "language": "python",
     "metadata": {},
     "outputs": [
      {
       "output_type": "stream",
       "stream": "stdout",
       "text": [
        "taux d'erreur: 0.0\n"
       ]
      }
     ],
     "prompt_number": 13
    },
    {
     "cell_type": "heading",
     "level": 2,
     "metadata": {},
     "source": [
      "Bonus / trucs auxquels r\u00e9fl\u00e9chir pour la prochaine fois"
     ]
    },
    {
     "cell_type": "markdown",
     "metadata": {},
     "source": [
      "* Divisez l'ensemble iris en deux - un ensemble d'entra\u00eenement qui contient 100 exemples (un sous-ensemble al\u00e9atoire!) et un ensemble de test qui contient le reste.\n",
      "  * Utilisez le premier sous-ensemble comme donn\u00e9es sur lesquelles on va calculer les distances minkowski (donc donn\u00e9es d'entra\u00eenement).\n",
      "  * Calculez la performance de votre algorithme sur les deux ensembles. Pourquoi y a-t-il une telle diff\u00e9rence?               \n",
      "\n"
     ]
    },
    {
     "cell_type": "code",
     "collapsed": false,
     "input": [
      "indexes = np.arange(iris.shape[0])\n",
      "# on utilise un seed pour que la s\u00e9rie al\u00e9atoire soit toujours la m\u00eame\n",
      "# cela rend les exp\u00e9riences reproductibles\n",
      "np.random.seed(3395)\n",
      "np.random.shuffle(indexes)\n",
      "\n",
      "train_set = iris[indexes[:50]]\n",
      "test_set = iris[indexes[50:]]\n",
      "\n",
      "# pr\u00e9diction sur l'ensemble d'entrainement en utilisant le m\u00eame ensemble pour trouver les 1-ppv\n",
      "train_predictions = np.zeros(train_set.shape[0])\n",
      "for i in range(train_set.shape[0]):\n",
      "    train_predictions[i] = ppv(train_set[i,:-1],train_set)\n",
      "    \n",
      "# pr\u00e9diction sur l'ensemble de test en utilisant l'ensemble d'entrainement pour trouver les 1-ppv\n",
      "test_predictions = np.zeros(test_set.shape[0])\n",
      "for i in range(test_set.shape[0]):\n",
      "    test_predictions[i] = ppv(test_set[i,:-1],train)\n",
      "    \n",
      "print \"Taux d'erreur sur l'ensemble d'entrainement\", (1.0-(train_predictions==train_set[:,-1]).mean())*100.0\n",
      "print \"Taux d'erreur sur l'ensemble de test\", (1.0-(test_predictions==test_set[:,-1]).mean())*100.0"
     ],
     "language": "python",
     "metadata": {},
     "outputs": [
      {
       "output_type": "stream",
       "stream": "stdout",
       "text": [
        "Taux d'erreur sur l'ensemble d'entrainement 0.0\n",
        "Taux d'erreur sur l'ensemble de test 5.0\n"
       ]
      }
     ],
     "prompt_number": 8
    },
    {
     "cell_type": "markdown",
     "metadata": {},
     "source": [
      "* Impl\u00e9mentez l'algorithme $k$-PPV avec $k > 1$\n",
      "   * Trouvez le $k$ qui donne la meilleure performance sur les deux ensembles - expliquez la diff\u00e9rence."
     ]
    },
    {
     "cell_type": "code",
     "collapsed": false,
     "input": [
      "%pylab inline\n",
      "\n",
      "def kppv(x,data,k,n_classes,p=2): \n",
      "    les_comptes = np.zeros(n_classes)\n",
      "    \n",
      "    distances = minkowski_mat(x,data[:,:-1])\n",
      "    # on prend les indices jusqu'\u00e0 k du vecteurs de distance tri\u00e9\n",
      "    ind_voisins = np.argsort(distances)[:k]\n",
      "    cl_voisins = list(data[ind_voisins,-1]-1) # -1 car les cibles sont de 1 \u00e0 3 et on veut acc\u00e8der aux index 0 \u00e0 2 de les_comptes\n",
      "    \n",
      "    for j in range(min(k,data.shape[0])): # on prend le min de k et data.shape[0] pour permettre un k plus grand que le nombre d'exemples (m\u00eame si \u00e7a n'a pas de sens)\n",
      "        les_comptes[cl_voisins[j]] += 1\n",
      "    return np.argmax(les_comptes)\n",
      "\n",
      "# on va tester les k-ppv de 0 \u00e0 K\n",
      "K = 50\n",
      "n_classes = 3\n",
      "ks = xrange(1,K+1)\n",
      "results = np.zeros(len(ks))\n",
      "for i, k in enumerate(ks):\n",
      "    test_predictions = np.zeros(test_set.shape[0])\n",
      "    for j in range(test_set.shape[0]):\n",
      "        test_predictions[j] = kppv(test_set[j,:-1],train_set,k,n_classes)\n",
      "        \n",
      "    results[i] = (1.0-(test_predictions==test_set[:,-1]).mean())*100.0\n",
      "    \n",
      "print \"Meilleur r\u00e9sultat avec k =\",ks[np.argmax(results)]\n",
      "print \"Taux d'erreur sur l'ensemble de test\", np.max(results)\n",
      "\n",
      "# graphique du % d'erreur en fonction de k\n",
      "x = np.linspace(1, K,K)\n",
      "line, = plt.plot(x, results)"
     ],
     "language": "python",
     "metadata": {},
     "outputs": [
      {
       "output_type": "stream",
       "stream": "stdout",
       "text": [
        "Populating the interactive namespace from numpy and matplotlib\n",
        "Meilleur r\u00e9sultat avec k ="
       ]
      },
      {
       "output_type": "stream",
       "stream": "stdout",
       "text": [
        " 2\n",
        "Taux d'erreur sur l'ensemble de test 98.0\n"
       ]
      },
      {
       "metadata": {},
       "output_type": "display_data",
       "png": "[encoded data removed]",
       "text": [
        "<matplotlib.figure.Figure at 0x3caffd0>"
       ]
      }
     ],
     "prompt_number": 12
    },
    {
     "cell_type": "markdown",
     "metadata": {},
     "source": [
      "* Que se passe-t-il lorsque $k=100$?"
     ]
    },
    {
     "cell_type": "code",
     "collapsed": false,
     "input": [
      "# \u00e0 vous de le d\u00e9couvrir"
     ],
     "language": "python",
     "metadata": {},
     "outputs": []
    }
   ],
   "metadata": {}
  }
 ]
}