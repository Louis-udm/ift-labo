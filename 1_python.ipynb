{
 "metadata": {
  "name": "",
  "signature": "sha256:173d81599528a2e7bd06d9a95efbe29b8f056b715a0b4f7db1915d28f58a106f"
 },
 "nbformat": 3,
 "nbformat_minor": 0,
 "worksheets": [
  {
   "cells": [
    {
     "cell_type": "heading",
     "level": 1,
     "metadata": {},
     "source": [
      "Courte introduction \u00e0 notebook"
     ]
    },
    {
     "cell_type": "markdown",
     "metadata": {},
     "source": [
      "Les documents **ipython notebook** sont constitu\u00e9s de cellules (**cell**) contenant soit du texte, soit du code ex\u00e9cutable."
     ]
    },
    {
     "cell_type": "code",
     "collapsed": false,
     "input": [
      "print \"Hello world!\""
     ],
     "language": "python",
     "metadata": {},
     "outputs": [],
     "prompt_number": "*"
    },
    {
     "cell_type": "markdown",
     "metadata": {},
     "source": [
      "La sortie des cellules de code est imprim\u00e9 juste en dessous, et permet d'imprimer autant du texte que des images. (Il n'est pas important de comprendre le code pour l'instant."
     ]
    },
    {
     "cell_type": "code",
     "collapsed": false,
     "input": [
      "%pylab inline\n",
      "from pylab import *\n",
      "\n",
      "x = linspace(0, 5, 10)\n",
      "y = x ** 2\n",
      "\n",
      "figure()\n",
      "plot(x, y, 'r')\n",
      "xlabel('x')\n",
      "ylabel('y')\n",
      "title('title')\n",
      "show()"
     ],
     "language": "python",
     "metadata": {},
     "outputs": [
      {
       "output_type": "stream",
       "stream": "stdout",
       "text": [
        "Populating the interactive namespace from numpy and matplotlib\n"
       ]
      },
      {
       "metadata": {},
       "output_type": "display_data",
       "png": "[encoded data removed]",
       "text": [
        "<matplotlib.figure.Figure at 0x3529510>"
       ]
      }
     ],
     "prompt_number": 4
    },
    {
     "cell_type": "markdown",
     "metadata": {},
     "source": [
      "Lorsqu'une cellule de code est ex\u00e9cut\u00e9, les variables contenu dans celles-ci sont acc\u00e8ssibles dans les cellules subs\u00e9quentes"
     ]
    },
    {
     "cell_type": "code",
     "collapsed": false,
     "input": [
      "print x"
     ],
     "language": "python",
     "metadata": {},
     "outputs": [
      {
       "output_type": "stream",
       "stream": "stdout",
       "text": [
        "[ 0.          0.55555556  1.11111111  1.66666667  2.22222222  2.77777778\n",
        "  3.33333333  3.88888889  4.44444444  5.        ]\n"
       ]
      }
     ],
     "prompt_number": 5
    },
    {
     "cell_type": "markdown",
     "metadata": {},
     "source": [
      "Remarquez que la variable `x` a \u00e9t\u00e9 d\u00e9fini \u00e0 la cellule pr\u00e9d\u00e9cente **In [4]**."
     ]
    },
    {
     "cell_type": "markdown",
     "metadata": {},
     "source": [
      "Les cellules contenant du texte permettent une mise en page plus flexible que de simples commentaires en ligne. Il est donc possible de r\u00e9diger un rapport (propre) contenant le code source. Cliquez sur cette cellules pour voir comment modifier le texte.\n",
      "\n",
      "###On peut \u00e9crire des titres\n",
      "\n",
      "* des \n",
      "* listes               \n",
      "\n",
      "\n",
      "1. \u00e0 points \n",
      "2. ou num\u00e9rot\u00e9.\n",
      "\n",
      "**\u00c9diter du texte en gras** ou *en italique*\n",
      "\n",
      "> **Citer du texte**                  \n",
      "> Lorem ipsum dolor sit amet, consectetur adipisicing elit, sed do eiusmod tempor incididunt ut labore et dolore magna aliqua. Ut enim ad minim veniam, quis nostrud exercitation ullamco laboris nisi ut aliquip ex ea commodo consequat. Duis aute irure dolor in reprehenderit in voluptate velit esse cillum dolore eu fugiat nulla pariatur. Excepteur sint occaecat cupidatat non proident, sunt in culpa qui officia deserunt mollit anim id est laborum\n",
      "\n",
      "ou int\u00e9grer du code (non ex\u00e9cutable) pour le commenter\n",
      "\n",
      "    def function_simple(x):\n",
      "        return x+1\n",
      "\n",
      "Et aussi (surtout?), on peut int\u00e9grer des fonctions math\u00e9matiques suivant la m\u00eame syntaxe qu'en LaTeX\n",
      "\n",
      "\\begin{equation}f(x) = \\sum_{i=0}^{m} w_ix_i + b\\end{equation}"
     ]
    },
    {
     "cell_type": "markdown",
     "metadata": {},
     "source": [
      "Libre \u00e0 vous d'exp\u00e9rimenter avec l'interface notebook et de d\u00e9couvrir ses nombreux avantages. "
     ]
    },
    {
     "cell_type": "heading",
     "level": 2,
     "metadata": {},
     "source": [
      "Exercices python"
     ]
    },
    {
     "cell_type": "markdown",
     "metadata": {},
     "source": [
      "Maintenant, cr\u00e9ez une nouvelle cellule pour le code et commencez votre lecture du tutoriel python! [version fran\u00e7aise](http://www.afpy.org/doc/python/2.7/tutorial/) [version anglaise](http://docs.python.org/tutorial/)\n",
      "\n",
      "Lisez et reproduisez les exemples du tutoriel des parties suivantes: 1,3,4,5,6,7,8,10; en sautant les sous-parties: 3.1.3, 4.7.6, 5.8, 8.4, 8.5, 8.6, 10.5, 10.7, 10.10, 10.11, 10.12."
     ]
    },
    {
     "cell_type": "code",
     "collapsed": false,
     "input": [],
     "language": "python",
     "metadata": {},
     "outputs": []
    }
   ],
   "metadata": {}
  }
 ]
}