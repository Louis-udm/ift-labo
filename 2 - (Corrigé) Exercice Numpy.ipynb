{
 "metadata": {
  "name": "",
  "signature": "sha256:64daca2317217bc7ffc9b701f4a6232771aff502d9eb349c73e0b491550eaa7b"
 },
 "nbformat": 3,
 "nbformat_minor": 0,
 "worksheets": [
  {
   "cells": [
    {
     "cell_type": "heading",
     "level": 1,
     "metadata": {},
     "source": [
      "Rappel pour Python"
     ]
    },
    {
     "cell_type": "markdown",
     "metadata": {},
     "source": [
      "Revoyons quelques concepts de base avec Python.\n",
      "\n",
      "* **Usage de `help`.**    \n",
      "    Au besoin, afin d'obtenir de l'information sur l'usage et les param\u00e8tres d'une fonction, utilisez help (ex: help(range)).\n"
     ]
    },
    {
     "cell_type": "code",
     "collapsed": true,
     "input": [
      "help(range)"
     ],
     "language": "python",
     "metadata": {},
     "outputs": []
    },
    {
     "cell_type": "markdown",
     "metadata": {},
     "source": [
      "* **Structure `list`, fonction `range`**.    \n",
      "    Cr\u00e9ez une liste croissante des nombres allant de 0 \u00e0 10. Cr\u00e9ez une liste d\u00e9croissante des m\u00eames nombres.\n"
     ]
    },
    {
     "cell_type": "code",
     "collapsed": false,
     "input": [
      "print range(10)\n",
      "print range(9,-1,-1)\n",
      "# ou\n",
      "print reversed(range(10))"
     ],
     "language": "python",
     "metadata": {},
     "outputs": [
      {
       "output_type": "stream",
       "stream": "stdout",
       "text": [
        "[0, 1, 2, 3, 4, 5, 6, 7, 8, 9]\n",
        "[9, 8, 7, 6, 5, 4, 3, 2, 1, 0]\n",
        "<listreverseiterator object at 0x2884850>\n"
       ]
      }
     ],
     "prompt_number": 5
    },
    {
     "cell_type": "markdown",
     "metadata": {},
     "source": [
      "* **Structure `for`**.        \n",
      "    Additionnez les listes terme \u00e0 terme: essayez avec l'op\u00e9rateur +. Que se passe-t'il? Faites-le maintenant avec une boucle for.\n"
     ]
    },
    {
     "cell_type": "code",
     "collapsed": false,
     "input": [
      "l = range(10)\n",
      "print \"addition de listes\",l+l\n",
      "s = [0]*10\n",
      "for i in range(len(l)):\n",
      "    s[i] = l[i]+l[i]\n",
      "print \"additions termes \u00e0 termes\",s"
     ],
     "language": "python",
     "metadata": {},
     "outputs": [
      {
       "output_type": "stream",
       "stream": "stdout",
       "text": [
        "addition de listes [0, 1, 2, 3, 4, 5, 6, 7, 8, 9, 0, 1, 2, 3, 4, 5, 6, 7, 8, 9]\n",
        "additions termes \u00e0 termes [0, 2, 4, 6, 8, 10, 12, 14, 16, 18]\n"
       ]
      }
     ],
     "prompt_number": 9
    },
    {
     "cell_type": "markdown",
     "metadata": {},
     "source": [
      "* **Structure `def`**.      \n",
      "    Voici comment on pourrait d\u00e9finir une fonction \"plus un\":\n",
      "\n",
      "        def plus_un(s):\n",
      "            s = s + 1\n",
      "            return s\n",
      "\n",
      "    Notez l'importance de l'indentation!"
     ]
    },
    {
     "cell_type": "code",
     "collapsed": false,
     "input": [
      "# exp\u00e9rimentez"
     ],
     "language": "python",
     "metadata": {},
     "outputs": []
    },
    {
     "cell_type": "heading",
     "level": 1,
     "metadata": {},
     "source": [
      "Numpy: manipulations de base"
     ]
    },
    {
     "cell_type": "markdown",
     "metadata": {},
     "source": [
      "*Note:* Si vous \u00eates familier avec matlab, cette [page web](http://www.scipy.org/NumPy_for_Matlab_Users) vous permettra de voir les principales correspondances matlab/numpy en terme de syntaxe.\n",
      "\n"
     ]
    },
    {
     "cell_type": "heading",
     "level": 3,
     "metadata": {},
     "source": [
      "Manipulations de base"
     ]
    },
    {
     "cell_type": "markdown",
     "metadata": {},
     "source": [
      "Commen\u00e7ons par quelques manipulations de base.\n",
      "\n",
      "* Avec la fonction `arange` de numpy, cr\u00e9ez un tableau d'\u00e9l\u00e9ments 0 \u00e0 10 exclusivement."
     ]
    },
    {
     "cell_type": "code",
     "collapsed": false,
     "input": [
      "import numpy as np\n",
      "print np.arange(10)"
     ],
     "language": "python",
     "metadata": {},
     "outputs": [
      {
       "output_type": "stream",
       "stream": "stdout",
       "text": [
        "[0 1 2 3 4 5 6 7 8 9]\n"
       ]
      }
     ],
     "prompt_number": 10
    },
    {
     "cell_type": "markdown",
     "metadata": {},
     "source": [
      "* D\u00e9terminez le type du tableau avec la fonction `type`. D\u00e9terminez maintenant le type d'un \u00e9l\u00e9ment du tableau (utilisez l'op\u00e9rateur []). Affichez la dimension du tableau (qui est de type tuple): `print le_tableau.shape`."
     ]
    },
    {
     "cell_type": "code",
     "collapsed": false,
     "input": [
      "t = np.arange(10)\n",
      "print \"type\",type(t)\n",
      "print \"type\",type(t[0])\n",
      "print t.shape"
     ],
     "language": "python",
     "metadata": {},
     "outputs": [
      {
       "output_type": "stream",
       "stream": "stdout",
       "text": [
        "type <type 'numpy.ndarray'>\n",
        "type <type 'numpy.int64'>\n",
        "(10,)\n"
       ]
      }
     ],
     "prompt_number": 14
    },
    {
     "cell_type": "markdown",
     "metadata": {},
     "source": [
      "* Acc\u00e9dez aux \u00e9l\u00e9ments 3 \u00e0 6 \u00e0 l'aide de l'op\u00e9rateur \u00ab:\u00bb."
     ]
    },
    {
     "cell_type": "code",
     "collapsed": false,
     "input": [
      "t[3:7]"
     ],
     "language": "python",
     "metadata": {},
     "outputs": [
      {
       "metadata": {},
       "output_type": "pyout",
       "prompt_number": 16,
       "text": [
        "array([3, 4, 5, 6])"
       ]
      }
     ],
     "prompt_number": 16
    },
    {
     "cell_type": "markdown",
     "metadata": {},
     "source": [
      "* Maintenant, cr\u00e9ez un second tableau de 10 \u00e9l\u00e9ments, cette fois-ci en convertissant une liste d'\u00e9l\u00e9ments (x = [1,7,3,...]) en tableau \u00e0 l'aide de la fonction array. \n"
     ]
    },
    {
     "cell_type": "code",
     "collapsed": false,
     "input": [
      "t = np.array(range(10))\n",
      "print t"
     ],
     "language": "python",
     "metadata": {},
     "outputs": [
      {
       "output_type": "stream",
       "stream": "stdout",
       "text": [
        "[0 1 2 3 4 5 6 7 8 9]\n"
       ]
      }
     ],
     "prompt_number": 17
    },
    {
     "cell_type": "markdown",
     "metadata": {},
     "source": [
      "* Remarquez que vous pouvez maintenant utiliser l'op\u00e9rateur + pour faire une addition terme \u00e0 terme des deux tableaux. Subtilit\u00e9 \u00e0 garder \u00e0 l'esprit: numpy contient \u00e0 la fois une classe ndarray et une classe matrix qui, bien \u00e9videmment, se comportent diff\u00e9remment. Par exemple, l'op\u00e9rateur * est, dans le premier cas, une multiplication terme \u00e0 terme, tandis qu'il consiste en une multiplication matricielle dans le second cas."
     ]
    },
    {
     "cell_type": "code",
     "collapsed": false,
     "input": [
      "print \"liste python\\n\\t\",l\n",
      "print \"array numpy\\n\\t\",t\n",
      "print \"addition de listes python\\n\\t\",l+l\n",
      "print \"addition de vecteurs numpy\\n\\t\",t+t\n",
      "\n",
      "print \"multiplication de vecteurs\\n\\t\",t*t\n",
      "# il faut changer les dimensions du tableaux pour que la multiplication des matrices soit valide\n",
      "print \"multiplication de matrices\\n\",np.matrix(t).reshape(2,5)*np.matrix(t).reshape(5,2)\n",
      "# Il n'est pas n\u00e9cessaire de transformer les tableaux en matrice si on utilise la fonction dot pour multiplier les tableaux \n",
      "print \"multiplication de matrices\\n\",np.dot(t.reshape(2,5),t.reshape(5,2))"
     ],
     "language": "python",
     "metadata": {},
     "outputs": [
      {
       "output_type": "stream",
       "stream": "stdout",
       "text": [
        "liste python\n",
        "\t[0, 1, 2, 3, 4, 5, 6, 7, 8, 9]\n",
        "array numpy\n",
        "\t[0 1 2 3 4 5 6 7 8 9]\n",
        "addition de listes python\n",
        "\t[0, 1, 2, 3, 4, 5, 6, 7, 8, 9, 0, 1, 2, 3, 4, 5, 6, 7, 8, 9]\n",
        "addition de vecteurs numpy\n",
        "\t[ 0  2  4  6  8 10 12 14 16 18]\n",
        "multiplication de vecteurs\n",
        "\t[ 0  1  4  9 16 25 36 49 64 81]\n",
        "multiplication de matrices\n",
        "[[ 60  70]\n",
        " [160 195]]\n",
        "multiplication de matrices\n",
        "[[ 60  70]\n",
        " [160 195]]\n"
       ]
      }
     ],
     "prompt_number": 31
    },
    {
     "cell_type": "markdown",
     "metadata": {},
     "source": [
      "* Modifiez la dimension de l'un de vos tableaux : (tab.shape = 2,3). Que se passe-t'il? Essayer avec (tab.shape = 2,5). Confirmez la nouvelle dimension \u00e0 l'aide de la fonction shape."
     ]
    },
    {
     "cell_type": "code",
     "collapsed": false,
     "input": [
      "t = np.arange(10)\n",
      "try:\n",
      "    t.shape = (2,3)\n",
      "except BaseException as error:\n",
      "    print \"Erreur:\\n\\t\",error\n",
      "t.shape = (2,5)\n",
      "print t.shape\n",
      "# ou bien\n",
      "t = np.arange(10)\n",
      "n = t.reshape(2,5)\n",
      "print t.shape\n",
      "print n.shape"
     ],
     "language": "python",
     "metadata": {},
     "outputs": [
      {
       "output_type": "stream",
       "stream": "stdout",
       "text": [
        "Erreur:\n",
        "\ttotal size of new array must be unchanged\n",
        "(2, 5)\n",
        "(10,)\n",
        "(2, 5)\n"
       ]
      }
     ],
     "prompt_number": 40
    },
    {
     "cell_type": "heading",
     "level": 3,
     "metadata": {},
     "source": [
      "Statistiques"
     ]
    },
    {
     "cell_type": "markdown",
     "metadata": {},
     "source": [
      "Nous allons maintenant g\u00e9n\u00e9rer quelques donn\u00e9es et en v\u00e9rifier les statistiques.\n",
      "\n",
      "* Cr\u00e9ez un tableau de dimension 100 lignes par 2 colonnes. Vous pouvez utiliser la fonction ones ou zeros.\n"
     ]
    },
    {
     "cell_type": "code",
     "collapsed": false,
     "input": [
      "t = np.ones((100,2))\n",
      "print t.shape"
     ],
     "language": "python",
     "metadata": {},
     "outputs": [
      {
       "output_type": "stream",
       "stream": "stdout",
       "text": [
        "(100, 2)\n"
       ]
      }
     ],
     "prompt_number": 43
    },
    {
     "cell_type": "markdown",
     "metadata": {},
     "source": [
      "* Remplissez chacune de ces colonnes avec des \u00e9chantillons tir\u00e9s de deux gaussiennes. \n",
      "  * Pour se faire, utilisez la fonction normal afin de g\u00e9n\u00e9rer d'abord 100 observations de moyenne 0 et d'\u00e9cart type 1. Utilisez help afin de conna\u00eetre les param\u00e8tres de la fonction normal. \n",
      "  * Remplissez la premi\u00e8re colonne (tableau[:,0]) \u00e0 l'aide de ces observations. Si vous avez de la difficult\u00e9, regardez quelle est la dimension des diff\u00e9rents tableaux avec la fonction shape.\n",
      "  * Faites de m\u00eame pour la deuxi\u00e8me colonne, mais cette fois-ci avec une gaussienne de moyenne 0 et d'\u00e9cart-type 5.\n"
     ]
    },
    {
     "cell_type": "code",
     "collapsed": false,
     "input": [
      "n = np.random.normal(loc=0,scale=1.0,size=100)\n",
      "print n.shape\n",
      "t[:,0] = n\n",
      "\n",
      "n = np.random.normal(loc=0,scale=5.0,size=100)\n",
      "print n.shape\n",
      "t[:,1] = n"
     ],
     "language": "python",
     "metadata": {},
     "outputs": [
      {
       "output_type": "stream",
       "stream": "stdout",
       "text": [
        "(100,)\n",
        "(100,)\n"
       ]
      }
     ],
     "prompt_number": 55
    },
    {
     "cell_type": "markdown",
     "metadata": {},
     "source": [
      "* Validez vos donn\u00e9es \u00e0 l'aide des fonctions mean et std. Faites-le en utilisant l'argument axis."
     ]
    },
    {
     "cell_type": "code",
     "collapsed": false,
     "input": [
      "print t[:,0].mean(), t[:,0].std()\n",
      "print t[:,1].mean(), t[:,1].std()"
     ],
     "language": "python",
     "metadata": {},
     "outputs": [
      {
       "output_type": "stream",
       "stream": "stdout",
       "text": [
        "-0.183113401205 0.991503420196\n",
        "-0.299194292702 4.65343455223\n"
       ]
      }
     ],
     "prompt_number": 57
    },
    {
     "cell_type": "heading",
     "level": 1,
     "metadata": {},
     "source": [
      "On s'amuse avec des fleurs"
     ]
    },
    {
     "cell_type": "markdown",
     "metadata": {},
     "source": [
      "Nous allons maintenant nous int\u00e9resser \u00e0 un jeu de donn\u00e9es r\u00e9elles, bien que petit. Il s'agit d'[iris](http://en.wikipedia.org/wiki/Iris_flower_data_set), disponible [ici](http://www.iro.umontreal.ca/%7Edift3395/files/iris.txt). Commencez par t\u00e9l\u00e9charger le fichier et le mettre dans le m\u00eane dossier que ce fichier notebook, puis chargez le jeu de donn\u00e9es avec la fonction numpy loadtxt :\n",
      "\n",
      " "
     ]
    },
    {
     "cell_type": "code",
     "collapsed": false,
     "input": [
      "iris = np.loadtxt('iris.txt')"
     ],
     "language": "python",
     "metadata": {},
     "outputs": [],
     "prompt_number": 58
    },
    {
     "cell_type": "heading",
     "level": 3,
     "metadata": {},
     "source": [
      "Travailler avec des `array` numpy"
     ]
    },
    {
     "cell_type": "markdown",
     "metadata": {},
     "source": [
      "Vous avez maintenant acc\u00e8s \u00e0 un *array* nomm\u00e9 iris.\n",
      "\n",
      "* Visualisez des \u00e9l\u00e9ments du jeu de donn\u00e9es"
     ]
    },
    {
     "cell_type": "code",
     "collapsed": false,
     "input": [
      "print iris.shape\n",
      "print iris"
     ],
     "language": "python",
     "metadata": {},
     "outputs": [
      {
       "output_type": "stream",
       "stream": "stdout",
       "text": [
        "(150, 5)\n",
        "[[ 5.1  3.5  1.4  0.2  1. ]\n",
        " [ 4.9  3.   1.4  0.2  1. ]\n",
        " [ 4.7  3.2  1.3  0.2  1. ]\n",
        " [ 4.6  3.1  1.5  0.2  1. ]\n",
        " [ 5.   3.6  1.4  0.2  1. ]\n",
        " [ 5.4  3.9  1.7  0.4  1. ]\n",
        " [ 4.6  3.4  1.4  0.3  1. ]\n",
        " [ 5.   3.4  1.5  0.2  1. ]\n",
        " [ 4.4  2.9  1.4  0.2  1. ]\n",
        " [ 4.9  3.1  1.5  0.1  1. ]\n",
        " [ 5.4  3.7  1.5  0.2  1. ]\n",
        " [ 4.8  3.4  1.6  0.2  1. ]\n",
        " [ 4.8  3.   1.4  0.1  1. ]\n",
        " [ 4.3  3.   1.1  0.1  1. ]\n",
        " [ 5.8  4.   1.2  0.2  1. ]\n",
        " [ 5.7  4.4  1.5  0.4  1. ]\n",
        " [ 5.4  3.9  1.3  0.4  1. ]\n",
        " [ 5.1  3.5  1.4  0.3  1. ]\n",
        " [ 5.7  3.8  1.7  0.3  1. ]\n",
        " [ 5.1  3.8  1.5  0.3  1. ]\n",
        " [ 5.4  3.4  1.7  0.2  1. ]\n",
        " [ 5.1  3.7  1.5  0.4  1. ]\n",
        " [ 4.6  3.6  1.   0.2  1. ]\n",
        " [ 5.1  3.3  1.7  0.5  1. ]\n",
        " [ 4.8  3.4  1.9  0.2  1. ]\n",
        " [ 5.   3.   1.6  0.2  1. ]\n",
        " [ 5.   3.4  1.6  0.4  1. ]\n",
        " [ 5.2  3.5  1.5  0.2  1. ]\n",
        " [ 5.2  3.4  1.4  0.2  1. ]\n",
        " [ 4.7  3.2  1.6  0.2  1. ]\n",
        " [ 4.8  3.1  1.6  0.2  1. ]\n",
        " [ 5.4  3.4  1.5  0.4  1. ]\n",
        " [ 5.2  4.1  1.5  0.1  1. ]\n",
        " [ 5.5  4.2  1.4  0.2  1. ]\n",
        " [ 4.9  3.1  1.5  0.2  1. ]\n",
        " [ 5.   3.2  1.2  0.2  1. ]\n",
        " [ 5.5  3.5  1.3  0.2  1. ]\n",
        " [ 4.9  3.6  1.4  0.1  1. ]\n",
        " [ 4.4  3.   1.3  0.2  1. ]\n",
        " [ 5.1  3.4  1.5  0.2  1. ]\n",
        " [ 5.   3.5  1.3  0.3  1. ]\n",
        " [ 4.5  2.3  1.3  0.3  1. ]\n",
        " [ 4.4  3.2  1.3  0.2  1. ]\n",
        " [ 5.   3.5  1.6  0.6  1. ]\n",
        " [ 5.1  3.8  1.9  0.4  1. ]\n",
        " [ 4.8  3.   1.4  0.3  1. ]\n",
        " [ 5.1  3.8  1.6  0.2  1. ]\n",
        " [ 4.6  3.2  1.4  0.2  1. ]\n",
        " [ 5.3  3.7  1.5  0.2  1. ]\n",
        " [ 5.   3.3  1.4  0.2  1. ]\n",
        " [ 7.   3.2  4.7  1.4  2. ]\n",
        " [ 6.4  3.2  4.5  1.5  2. ]\n",
        " [ 6.9  3.1  4.9  1.5  2. ]\n",
        " [ 5.5  2.3  4.   1.3  2. ]\n",
        " [ 6.5  2.8  4.6  1.5  2. ]\n",
        " [ 5.7  2.8  4.5  1.3  2. ]\n",
        " [ 6.3  3.3  4.7  1.6  2. ]\n",
        " [ 4.9  2.4  3.3  1.   2. ]\n",
        " [ 6.6  2.9  4.6  1.3  2. ]\n",
        " [ 5.2  2.7  3.9  1.4  2. ]\n",
        " [ 5.   2.   3.5  1.   2. ]\n",
        " [ 5.9  3.   4.2  1.5  2. ]\n",
        " [ 6.   2.2  4.   1.   2. ]\n",
        " [ 6.1  2.9  4.7  1.4  2. ]\n",
        " [ 5.6  2.9  3.6  1.3  2. ]\n",
        " [ 6.7  3.1  4.4  1.4  2. ]\n",
        " [ 5.6  3.   4.5  1.5  2. ]\n",
        " [ 5.8  2.7  4.1  1.   2. ]\n",
        " [ 6.2  2.2  4.5  1.5  2. ]\n",
        " [ 5.6  2.5  3.9  1.1  2. ]\n",
        " [ 5.9  3.2  4.8  1.8  2. ]\n",
        " [ 6.1  2.8  4.   1.3  2. ]\n",
        " [ 6.3  2.5  4.9  1.5  2. ]\n",
        " [ 6.1  2.8  4.7  1.2  2. ]\n",
        " [ 6.4  2.9  4.3  1.3  2. ]\n",
        " [ 6.6  3.   4.4  1.4  2. ]\n",
        " [ 6.8  2.8  4.8  1.4  2. ]\n",
        " [ 6.7  3.   5.   1.7  2. ]\n",
        " [ 6.   2.9  4.5  1.5  2. ]\n",
        " [ 5.7  2.6  3.5  1.   2. ]\n",
        " [ 5.5  2.4  3.8  1.1  2. ]\n",
        " [ 5.5  2.4  3.7  1.   2. ]\n",
        " [ 5.8  2.7  3.9  1.2  2. ]\n",
        " [ 6.   2.7  5.1  1.6  2. ]\n",
        " [ 5.4  3.   4.5  1.5  2. ]\n",
        " [ 6.   3.4  4.5  1.6  2. ]\n",
        " [ 6.7  3.1  4.7  1.5  2. ]\n",
        " [ 6.3  2.3  4.4  1.3  2. ]\n",
        " [ 5.6  3.   4.1  1.3  2. ]\n",
        " [ 5.5  2.5  4.   1.3  2. ]\n",
        " [ 5.5  2.6  4.4  1.2  2. ]\n",
        " [ 6.1  3.   4.6  1.4  2. ]\n",
        " [ 5.8  2.6  4.   1.2  2. ]\n",
        " [ 5.   2.3  3.3  1.   2. ]\n",
        " [ 5.6  2.7  4.2  1.3  2. ]\n",
        " [ 5.7  3.   4.2  1.2  2. ]\n",
        " [ 5.7  2.9  4.2  1.3  2. ]\n",
        " [ 6.2  2.9  4.3  1.3  2. ]\n",
        " [ 5.1  2.5  3.   1.1  2. ]\n",
        " [ 5.7  2.8  4.1  1.3  2. ]\n",
        " [ 6.3  3.3  6.   2.5  3. ]\n",
        " [ 5.8  2.7  5.1  1.9  3. ]\n",
        " [ 7.1  3.   5.9  2.1  3. ]\n",
        " [ 6.3  2.9  5.6  1.8  3. ]\n",
        " [ 6.5  3.   5.8  2.2  3. ]\n",
        " [ 7.6  3.   6.6  2.1  3. ]\n",
        " [ 4.9  2.5  4.5  1.7  3. ]\n",
        " [ 7.3  2.9  6.3  1.8  3. ]\n",
        " [ 6.7  2.5  5.8  1.8  3. ]\n",
        " [ 7.2  3.6  6.1  2.5  3. ]\n",
        " [ 6.5  3.2  5.1  2.   3. ]\n",
        " [ 6.4  2.7  5.3  1.9  3. ]\n",
        " [ 6.8  3.   5.5  2.1  3. ]\n",
        " [ 5.7  2.5  5.   2.   3. ]\n",
        " [ 5.8  2.8  5.1  2.4  3. ]\n",
        " [ 6.4  3.2  5.3  2.3  3. ]\n",
        " [ 6.5  3.   5.5  1.8  3. ]\n",
        " [ 7.7  3.8  6.7  2.2  3. ]\n",
        " [ 7.7  2.6  6.9  2.3  3. ]\n",
        " [ 6.   2.2  5.   1.5  3. ]\n",
        " [ 6.9  3.2  5.7  2.3  3. ]\n",
        " [ 5.6  2.8  4.9  2.   3. ]\n",
        " [ 7.7  2.8  6.7  2.   3. ]\n",
        " [ 6.3  2.7  4.9  1.8  3. ]\n",
        " [ 6.7  3.3  5.7  2.1  3. ]\n",
        " [ 7.2  3.2  6.   1.8  3. ]\n",
        " [ 6.2  2.8  4.8  1.8  3. ]\n",
        " [ 6.1  3.   4.9  1.8  3. ]\n",
        " [ 6.4  2.8  5.6  2.1  3. ]\n",
        " [ 7.2  3.   5.8  1.6  3. ]\n",
        " [ 7.4  2.8  6.1  1.9  3. ]\n",
        " [ 7.9  3.8  6.4  2.   3. ]\n",
        " [ 6.4  2.8  5.6  2.2  3. ]\n",
        " [ 6.3  2.8  5.1  1.5  3. ]\n",
        " [ 6.1  2.6  5.6  1.4  3. ]\n",
        " [ 7.7  3.   6.1  2.3  3. ]\n",
        " [ 6.3  3.4  5.6  2.4  3. ]\n",
        " [ 6.4  3.1  5.5  1.8  3. ]\n",
        " [ 6.   3.   4.8  1.8  3. ]\n",
        " [ 6.9  3.1  5.4  2.1  3. ]\n",
        " [ 6.7  3.1  5.6  2.4  3. ]\n",
        " [ 6.9  3.1  5.1  2.3  3. ]\n",
        " [ 5.8  2.7  5.1  1.9  3. ]\n",
        " [ 6.8  3.2  5.9  2.3  3. ]\n",
        " [ 6.7  3.3  5.7  2.5  3. ]\n",
        " [ 6.7  3.   5.2  2.3  3. ]\n",
        " [ 6.3  2.5  5.   1.9  3. ]\n",
        " [ 6.5  3.   5.2  2.   3. ]\n",
        " [ 6.2  3.4  5.4  2.3  3. ]\n",
        " [ 5.9  3.   5.1  1.8  3. ]]\n"
       ]
      }
     ],
     "prompt_number": 59
    },
    {
     "cell_type": "markdown",
     "metadata": {},
     "source": [
      "L'acc\u00e8s aux \u00e9l\u00e9ments d'une matrice numpy se fait de mani\u00e8re similaire \u00e0 une liste python, \u00e0 la diff\u00e9rence qu'on peut acc\u00e8der \u00e0 un \u00e9l\u00e9ment de la sous liste directement. Remarquez la diff\u00e9rence pour acc\u00e8der au premier \u00e9l\u00e9ment."
     ]
    },
    {
     "cell_type": "code",
     "collapsed": false,
     "input": [
      "l = [[0,1,3],\n",
      "     [4,5,6],\n",
      "     [7,8,9]]\n",
      "         \n",
      "l[0][0] == np.array(l)[0,0]"
     ],
     "language": "python",
     "metadata": {},
     "outputs": [
      {
       "metadata": {},
       "output_type": "pyout",
       "prompt_number": 61,
       "text": [
        "True"
       ]
      }
     ],
     "prompt_number": 61
    },
    {
     "cell_type": "markdown",
     "metadata": {},
     "source": [
      "L'avantage est qu'on peut d\u00e9terminer des intervales de mani\u00e8re beaucoup plus \u00e9fficace. Il est maintenant possible d'utiliser l'op\u00e9rateur \u00ab`:`\u00bb pour d\u00e9finir un intervale sur toutes les sous listes en m\u00eame temps"
     ]
    },
    {
     "cell_type": "code",
     "collapsed": false,
     "input": [
      "print np.array(l)\n",
      "print np.array(l)[1:,:2]\n",
      "\n",
      "([arr[:2] for arr in l[1:]]==np.array(l)[1:,:2]).all()"
     ],
     "language": "python",
     "metadata": {},
     "outputs": [
      {
       "output_type": "stream",
       "stream": "stdout",
       "text": [
        "[[0 1 3]\n",
        " [4 5 6]\n",
        " [7 8 9]]\n",
        "[[4 5]\n",
        " [7 8]]\n"
       ]
      },
      {
       "metadata": {},
       "output_type": "pyout",
       "prompt_number": 62,
       "text": [
        "True"
       ]
      }
     ],
     "prompt_number": 62
    },
    {
     "cell_type": "markdown",
     "metadata": {},
     "source": [
      "Le jeu de donn\u00e9es comporte 150 exemples: 50 pour chaque classe. Chaque rang\u00e9e correspond \u00e0 un exemple - quatre traits/caract\u00e9ristiques/features, plus la classe/le label/l'\u00e9tiquette soit (\"1\", \"2\", ou \"3\").\n",
      " \n",
      "* Acc\u00e8dez \u00e0 la 23e rang\u00e9e de l'`array` iris"
     ]
    },
    {
     "cell_type": "code",
     "collapsed": false,
     "input": [
      "iris[23]"
     ],
     "language": "python",
     "metadata": {},
     "outputs": [
      {
       "metadata": {},
       "output_type": "pyout",
       "prompt_number": 63,
       "text": [
        "array([ 5.1,  3.3,  1.7,  0.5,  1. ])"
       ]
      }
     ],
     "prompt_number": 63
    },
    {
     "cell_type": "markdown",
     "metadata": {},
     "source": [
      "* Acc\u00e8dez \u00e0 la 3e colonne\n"
     ]
    },
    {
     "cell_type": "code",
     "collapsed": false,
     "input": [
      "iris[:,2]"
     ],
     "language": "python",
     "metadata": {},
     "outputs": [
      {
       "metadata": {},
       "output_type": "pyout",
       "prompt_number": 65,
       "text": [
        "array([ 1.4,  1.4,  1.3,  1.5,  1.4,  1.7,  1.4,  1.5,  1.4,  1.5,  1.5,\n",
        "        1.6,  1.4,  1.1,  1.2,  1.5,  1.3,  1.4,  1.7,  1.5,  1.7,  1.5,\n",
        "        1. ,  1.7,  1.9,  1.6,  1.6,  1.5,  1.4,  1.6,  1.6,  1.5,  1.5,\n",
        "        1.4,  1.5,  1.2,  1.3,  1.4,  1.3,  1.5,  1.3,  1.3,  1.3,  1.6,\n",
        "        1.9,  1.4,  1.6,  1.4,  1.5,  1.4,  4.7,  4.5,  4.9,  4. ,  4.6,\n",
        "        4.5,  4.7,  3.3,  4.6,  3.9,  3.5,  4.2,  4. ,  4.7,  3.6,  4.4,\n",
        "        4.5,  4.1,  4.5,  3.9,  4.8,  4. ,  4.9,  4.7,  4.3,  4.4,  4.8,\n",
        "        5. ,  4.5,  3.5,  3.8,  3.7,  3.9,  5.1,  4.5,  4.5,  4.7,  4.4,\n",
        "        4.1,  4. ,  4.4,  4.6,  4. ,  3.3,  4.2,  4.2,  4.2,  4.3,  3. ,\n",
        "        4.1,  6. ,  5.1,  5.9,  5.6,  5.8,  6.6,  4.5,  6.3,  5.8,  6.1,\n",
        "        5.1,  5.3,  5.5,  5. ,  5.1,  5.3,  5.5,  6.7,  6.9,  5. ,  5.7,\n",
        "        4.9,  6.7,  4.9,  5.7,  6. ,  4.8,  4.9,  5.6,  5.8,  6.1,  6.4,\n",
        "        5.6,  5.1,  5.6,  6.1,  5.6,  5.5,  4.8,  5.4,  5.6,  5.1,  5.1,\n",
        "        5.9,  5.7,  5.2,  5. ,  5.2,  5.4,  5.1])"
       ]
      }
     ],
     "prompt_number": 65
    },
    {
     "cell_type": "markdown",
     "metadata": {},
     "source": [
      "* Maintenant, Acc\u00e8dez aux \u00e9l\u00e9ments des rang\u00e9es 0 \u00e0 9 en ne prenant que les colonne 1 et 2"
     ]
    },
    {
     "cell_type": "code",
     "collapsed": false,
     "input": [
      "iris[0:10,1:3]"
     ],
     "language": "python",
     "metadata": {},
     "outputs": [
      {
       "metadata": {},
       "output_type": "pyout",
       "prompt_number": 67,
       "text": [
        "array([[ 3.5,  1.4],\n",
        "       [ 3. ,  1.4],\n",
        "       [ 3.2,  1.3],\n",
        "       [ 3.1,  1.5],\n",
        "       [ 3.6,  1.4],\n",
        "       [ 3.9,  1.7],\n",
        "       [ 3.4,  1.4],\n",
        "       [ 3.4,  1.5],\n",
        "       [ 2.9,  1.4],\n",
        "       [ 3.1,  1.5]])"
       ]
      }
     ],
     "prompt_number": 67
    },
    {
     "cell_type": "markdown",
     "metadata": {},
     "source": [
      "L'index n\u00e9gatif peut \u00eatre utilis\u00e9 pour parti de la fin plut\u00f4t que du d\u00e9but d'une liste. \n"
     ]
    },
    {
     "cell_type": "code",
     "collapsed": false,
     "input": [
      "range(10)[-1]==9\n",
      "range(10)[-2]==8\n",
      "# etc"
     ],
     "language": "python",
     "metadata": {},
     "outputs": []
    },
    {
     "cell_type": "markdown",
     "metadata": {},
     "source": [
      "On peut aussi utiliser l'index n\u00e9gatif pour d\u00e9finir des intervales avec l'op\u00e9rateur \u00ab`:`\u00bb. Cela s'applique autant pour les index des listes python que pour les `array` numpy."
     ]
    },
    {
     "cell_type": "code",
     "collapsed": false,
     "input": [
      "print range(10)[2:-5]"
     ],
     "language": "python",
     "metadata": {},
     "outputs": []
    },
    {
     "cell_type": "markdown",
     "metadata": {},
     "source": [
      "* Utilisez judicieusement l'index pour acc\u00e8der \u00e0 la rang\u00e9e 23 et toutes ses colonnes sauf la derni\u00e8re"
     ]
    },
    {
     "cell_type": "code",
     "collapsed": false,
     "input": [
      "iris[23,:-1]"
     ],
     "language": "python",
     "metadata": {},
     "outputs": [
      {
       "metadata": {},
       "output_type": "pyout",
       "prompt_number": 68,
       "text": [
        "array([ 5.1,  3.3,  1.7,  0.5])"
       ]
      }
     ],
     "prompt_number": 68
    },
    {
     "cell_type": "heading",
     "level": 3,
     "metadata": {},
     "source": [
      "Quelques fonctions utiles de numpy"
     ]
    },
    {
     "cell_type": "markdown",
     "metadata": {},
     "source": [
      "Nous poursuivons avec le jeu de donn\u00e9es iris (cf section pr\u00e9c\u00e9dente). Assurez-vous que vous comprenez les fonctions suivantes en les ex\u00e9cutant. Elles seront utiles pour la suite."
     ]
    },
    {
     "cell_type": "markdown",
     "metadata": {},
     "source": [
      "**sum** : Somme des \u00e9l\u00e9ments d'un vecteur/matrice        \n",
      "> `axis` sp\u00e9cifie sur quelle \"dimension\" il faut faire l'op\u00e9ration"
     ]
    },
    {
     "cell_type": "code",
     "collapsed": false,
     "input": [
      "np.sum(iris)\n",
      "np.sum(iris,axis=0)\n",
      "np.sum(iris,axis=1) "
     ],
     "language": "python",
     "metadata": {},
     "outputs": []
    },
    {
     "cell_type": "markdown",
     "metadata": {},
     "source": [
      "**min**, **max** : Valeure(s) minimale(s) ou maximale(s) d'un vecteur/matrice\n",
      "> V\u00e9firiez l'effet d'`axis` dans ce cas ci"
     ]
    },
    {
     "cell_type": "code",
     "collapsed": false,
     "input": [
      "np.min(iris)\n",
      "np.min(iris,axis=1)\n",
      "np.min(iris,axis=0)\n",
      "\n",
      "np.max(iris,axis=0)"
     ],
     "language": "python",
     "metadata": {},
     "outputs": []
    },
    {
     "cell_type": "markdown",
     "metadata": {},
     "source": [
      "**argmax**, **argmin** : Index de(s) valeur(s) minimale(s) ou maximale(s) d'un vecteur/matrice"
     ]
    },
    {
     "cell_type": "code",
     "collapsed": false,
     "input": [
      "np.argmin(iris)\n",
      "np.argmin(iris,axis=1)\n",
      "np.argmin(iris,axis=0)\n",
      "\n",
      "np.argmax(iris,axis=0)"
     ],
     "language": "python",
     "metadata": {},
     "outputs": []
    },
    {
     "cell_type": "markdown",
     "metadata": {},
     "source": [
      "**abs** : Valeur absolue"
     ]
    },
    {
     "cell_type": "code",
     "collapsed": false,
     "input": [
      "np.abs(iris[:,1:4])"
     ],
     "language": "python",
     "metadata": {},
     "outputs": []
    },
    {
     "cell_type": "markdown",
     "metadata": {},
     "source": [
      "** \\*\\* ** : exposant"
     ]
    },
    {
     "cell_type": "code",
     "collapsed": false,
     "input": [
      "iris[0,:-1]**4.5"
     ],
     "language": "python",
     "metadata": {},
     "outputs": [
      {
       "metadata": {},
       "output_type": "pyout",
       "prompt_number": 11,
       "text": [
        "array([  1.52779749e+03,   2.80741231e+02,   4.54544242e+00,\n",
        "         7.15541753e-04])"
       ]
      }
     ],
     "prompt_number": 11
    },
    {
     "cell_type": "markdown",
     "metadata": {},
     "source": [
      "** shuffle ** : Trier al\u00e9atoirement les \u00e9l\u00e9ments d'une s\u00e9quence/vecteur\n",
      "\n"
     ]
    },
    {
     "cell_type": "code",
     "collapsed": false,
     "input": [
      "seq = np.arange(10)\n",
      "np.random.shuffle(seq)"
     ],
     "language": "python",
     "metadata": {},
     "outputs": []
    },
    {
     "cell_type": "markdown",
     "metadata": {},
     "source": [
      "Il y a beaucoup d'autres fonctions math\u00e9matiques utiles : numpy.mean, numpy.std, numpy.cov, numpy.dot, numpy.invert, numpy.unique, numpy.vsplit, numpy.vstack, numpy.hsplit, numpy.hstack. Testez les pour mieux les comprendres ou regardez la [documentation](http://docs.scipy.org/doc/numpy/reference/index.html)"
     ]
    },
    {
     "cell_type": "code",
     "collapsed": false,
     "input": [],
     "language": "python",
     "metadata": {},
     "outputs": []
    },
    {
     "cell_type": "heading",
     "level": 1,
     "metadata": {},
     "source": [
      "Dessiner des fleurs avec Matplotlib"
     ]
    },
    {
     "cell_type": "markdown",
     "metadata": {},
     "source": [
      "La librairie `matplotlib` sert \u00e0 cr\u00e9er des graphiques. Voici diff\u00e9rentes fonction pratiques pour visualiser un ensemble de donn\u00e9es comme `iris`.\n",
      "\n",
      "Si on veut afficher des graphiques \u00e0 l'int\u00e9rieur d'un notebook, il est important d'ajouter la ligne suivante qui sera valide pour toute les cellules de code suivantes. "
     ]
    },
    {
     "cell_type": "code",
     "collapsed": false,
     "input": [
      "%pylab inline"
     ],
     "language": "python",
     "metadata": {},
     "outputs": [
      {
       "output_type": "stream",
       "stream": "stdout",
       "text": [
        "Populating the interactive namespace from numpy and matplotlib\n"
       ]
      },
      {
       "output_type": "stream",
       "stream": "stderr",
       "text": [
        "WARNING: pylab import has clobbered these variables: ['pylab']\n",
        "`%pylab --no-import-all` prevents importing * from pylab and numpy\n"
       ]
      }
     ],
     "prompt_number": 6
    },
    {
     "cell_type": "markdown",
     "metadata": {},
     "source": [
      "Histogramme d'\u00e9l\u00e9ments d'un vecteur"
     ]
    },
    {
     "cell_type": "code",
     "collapsed": false,
     "input": [
      "import pylab\n",
      "pylab.hist(iris[:,2])"
     ],
     "language": "python",
     "metadata": {},
     "outputs": [
      {
       "metadata": {},
       "output_type": "pyout",
       "prompt_number": 7,
       "text": [
        "(array([37, 13,  0,  3,  8, 26, 29, 18, 11,  5]),\n",
        " array([ 1.  ,  1.59,  2.18,  2.77,  3.36,  3.95,  4.54,  5.13,  5.72,\n",
        "        6.31,  6.9 ]),\n",
        " <a list of 10 Patch objects>)"
       ]
      },
      {
       "metadata": {},
       "output_type": "display_data",
       "png": "[encoded data removed]",
       "text": [
        "<matplotlib.figure.Figure at 0x166ec10>"
       ]
      }
     ],
     "prompt_number": 7
    },
    {
     "cell_type": "markdown",
     "metadata": {},
     "source": [
      "Afficher un nuage de points (\"scatterplot\")"
     ]
    },
    {
     "cell_type": "code",
     "collapsed": false,
     "input": [
      "pylab.scatter(iris[:,2],iris[:,3])"
     ],
     "language": "python",
     "metadata": {},
     "outputs": [
      {
       "metadata": {},
       "output_type": "pyout",
       "prompt_number": 8,
       "text": [
        "<matplotlib.collections.CircleCollection at 0x2322210>"
       ]
      },
      {
       "metadata": {},
       "output_type": "display_data",
       "png": "[encoded data removed]",
       "text": [
        "<matplotlib.figure.Figure at 0x22c81d0>"
       ]
      }
     ],
     "prompt_number": 8
    },
    {
     "cell_type": "markdown",
     "metadata": {},
     "source": [
      "Afficher un nuage de points (\"scatterplot\")"
     ]
    },
    {
     "cell_type": "code",
     "collapsed": false,
     "input": [
      "pylab.scatter(iris[:,2],iris[:,3],c=iris[:,-1])"
     ],
     "language": "python",
     "metadata": {},
     "outputs": [
      {
       "metadata": {},
       "output_type": "pyout",
       "prompt_number": 9,
       "text": [
        "<matplotlib.collections.CircleCollection at 0x27b8250>"
       ]
      },
      {
       "metadata": {},
       "output_type": "display_data",
       "png": "[encoded data removed]",
       "text": [
        "<matplotlib.figure.Figure at 0x23225d0>"
       ]
      }
     ],
     "prompt_number": 9
    },
    {
     "cell_type": "markdown",
     "metadata": {},
     "source": [
      "Exemple plus compliqu\u00e9"
     ]
    },
    {
     "cell_type": "code",
     "collapsed": false,
     "input": [
      "support = linspace(-3,3,100) # linspace va generer un vecteur de 100 nombres entre -3 et 3\n",
      "fn = sin(support) \n",
      "bruit = randn(100)*0.1 # bruit Gaussien, moyenne=0, variance= sqrt(0.1)\n",
      "pylab.plot(support, fn) \n",
      "pylab.plot(support, fn + bruit,'--')\n",
      "pylab.grid(True) # affiche un grille\n",
      "pylab.xlabel('x')\n",
      "pylab.ylabel('f')\n",
      "pylab.legend(('f(x) sans bruit','f(x) avec bruit'))"
     ],
     "language": "python",
     "metadata": {},
     "outputs": [
      {
       "metadata": {},
       "output_type": "pyout",
       "prompt_number": 10,
       "text": [
        "<matplotlib.legend.Legend at 0x27e77d0>"
       ]
      },
      {
       "metadata": {},
       "output_type": "display_data",
       "png": "[encoded data removed]",
       "text": [
        "<matplotlib.figure.Figure at 0x27c3b10>"
       ]
      }
     ],
     "prompt_number": 10
    },
    {
     "cell_type": "markdown",
     "metadata": {},
     "source": [
      "###Ce n'est qu'un d\u00e9but\n",
      "\n",
      "Vous poss\u00e9dez maintenant quelques notions de base, mais il vous faudra davantage pour \u00eatre \u00e0 l'aise. Il vous faut donc adopter une approche exploratrice: feuilletez les tutoriels!"
     ]
    }
   ],
   "metadata": {}
  }
 ]
}