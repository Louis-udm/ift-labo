{
 "cells": [
  {
   "cell_type": "markdown",
   "metadata": {},
   "source": [
    "# Rappel pour Python"
   ]
  },
  {
   "cell_type": "markdown",
   "metadata": {},
   "source": [
    "Revoyons quelques concepts de base avec Python.\n",
    "\n",
    "* **Usage de `help`.**    \n",
    "    Au besoin, afin d'obtenir de l'information sur l'usage et les paramètres d'une fonction, utilisez help (ex: help(range)).\n"
   ]
  },
  {
   "cell_type": "code",
   "execution_count": 1,
   "metadata": {
    "collapsed": false
   },
   "outputs": [
    {
     "name": "stdout",
     "output_type": "stream",
     "text": [
      "Help on built-in function range in module __builtin__:\n",
      "\n",
      "range(...)\n",
      "    range(stop) -> list of integers\n",
      "    range(start, stop[, step]) -> list of integers\n",
      "    \n",
      "    Return a list containing an arithmetic progression of integers.\n",
      "    range(i, j) returns [i, i+1, i+2, ..., j-1]; start (!) defaults to 0.\n",
      "    When step is given, it specifies the increment (or decrement).\n",
      "    For example, range(4) returns [0, 1, 2, 3].  The end point is omitted!\n",
      "    These are exactly the valid indices for a list of 4 elements.\n",
      "\n"
     ]
    }
   ],
   "source": [
    "help(range)"
   ]
  },
  {
   "cell_type": "markdown",
   "metadata": {},
   "source": [
    "* **Structure `list`, fonction `range`**.    \n",
    "    Créez une liste croissante des nombres allant de 0 à 10. Créez une liste décroissante des mêmes nombres.\n"
   ]
  },
  {
   "cell_type": "code",
   "execution_count": null,
   "metadata": {
    "collapsed": false
   },
   "outputs": [],
   "source": []
  },
  {
   "cell_type": "markdown",
   "metadata": {},
   "source": [
    "* **Structure `for`**.        \n",
    "    Additionnez les listes terme à terme: essayez avec l'opérateur +. Que se passe-t'il? Faites-le maintenant avec une boucle for.\n"
   ]
  },
  {
   "cell_type": "code",
   "execution_count": null,
   "metadata": {
    "collapsed": false
   },
   "outputs": [],
   "source": []
  },
  {
   "cell_type": "markdown",
   "metadata": {},
   "source": [
    "* **Structure `def`**.      \n",
    "    Voici comment on pourrait définir une fonction \"plus un\":\n",
    "\n",
    "        def plus_un(s):\n",
    "            s = s + 1\n",
    "            return s\n",
    "\n",
    "    Notez l'importance de l'indentation!"
   ]
  },
  {
   "cell_type": "code",
   "execution_count": null,
   "metadata": {
    "collapsed": false
   },
   "outputs": [],
   "source": []
  },
  {
   "cell_type": "markdown",
   "metadata": {},
   "source": [
    "# Numpy: manipulations de base"
   ]
  },
  {
   "cell_type": "markdown",
   "metadata": {},
   "source": [
    "*Note:* Si vous êtes familier avec matlab, cette [page web](http://www.scipy.org/NumPy_for_Matlab_Users) vous permettra de voir les principales correspondances matlab/numpy en terme de syntaxe.\n",
    "\n"
   ]
  },
  {
   "cell_type": "markdown",
   "metadata": {},
   "source": [
    "### Manipulations de base"
   ]
  },
  {
   "cell_type": "markdown",
   "metadata": {},
   "source": [
    "Commençons par quelques manipulations de base.\n",
    "\n",
    "* Avec la fonction `arange` de numpy, créez un tableau d'éléments 0 à 10 exclusivement."
   ]
  },
  {
   "cell_type": "code",
   "execution_count": null,
   "metadata": {
    "collapsed": false
   },
   "outputs": [],
   "source": [
    "import numpy as np\n",
    "print np.arange"
   ]
  },
  {
   "cell_type": "markdown",
   "metadata": {},
   "source": [
    "* Déterminez le type du tableau avec la fonction `type`. Déterminez maintenant le type d'un élément du tableau (utilisez l'opérateur []). Affichez la dimension du tableau (qui est de type tuple): `print le_tableau.shape`."
   ]
  },
  {
   "cell_type": "code",
   "execution_count": null,
   "metadata": {
    "collapsed": false
   },
   "outputs": [],
   "source": []
  },
  {
   "cell_type": "markdown",
   "metadata": {},
   "source": [
    "* Accédez aux éléments 3 à 6 à l'aide de l'opérateur «:»."
   ]
  },
  {
   "cell_type": "code",
   "execution_count": null,
   "metadata": {
    "collapsed": false
   },
   "outputs": [],
   "source": []
  },
  {
   "cell_type": "markdown",
   "metadata": {},
   "source": [
    "* Maintenant, créez un second tableau de 10 éléments, cette fois-ci en convertissant une liste d'éléments (x = [1,7,3,...]) en tableau à l'aide de la fonction array. \n"
   ]
  },
  {
   "cell_type": "code",
   "execution_count": null,
   "metadata": {
    "collapsed": false
   },
   "outputs": [],
   "source": []
  },
  {
   "cell_type": "markdown",
   "metadata": {},
   "source": [
    "* Remarquez que vous pouvez maintenant utiliser l'opérateur + pour faire une addition terme à terme des deux tableaux. Subtilité à garder à l'esprit: numpy contient à la fois une classe ndarray et une classe matrix qui, bien évidemment, se comportent différemment. Par exemple, l'opérateur * est, dans le premier cas, une multiplication terme à terme, tandis qu'il consiste en une multiplication matricielle dans le second cas."
   ]
  },
  {
   "cell_type": "code",
   "execution_count": null,
   "metadata": {
    "collapsed": false
   },
   "outputs": [],
   "source": []
  },
  {
   "cell_type": "markdown",
   "metadata": {},
   "source": [
    "* Modifiez la dimension de l'un de vos tableaux : (tab.shape = 2,3). Que se passe-t'il? Essayer avec (tab.shape = 2,5). Confirmez la nouvelle dimension à l'aide de la fonction shape."
   ]
  },
  {
   "cell_type": "code",
   "execution_count": null,
   "metadata": {
    "collapsed": false
   },
   "outputs": [],
   "source": []
  },
  {
   "cell_type": "markdown",
   "metadata": {},
   "source": [
    "### Statistiques"
   ]
  },
  {
   "cell_type": "markdown",
   "metadata": {},
   "source": [
    "Nous allons maintenant générer quelques données et en vérifier les statistiques.\n",
    "\n",
    "* Créez un tableau de dimension 100 lignes par 2 colonnes. Vous pouvez utiliser la fonction ones ou zeros.\n"
   ]
  },
  {
   "cell_type": "code",
   "execution_count": null,
   "metadata": {
    "collapsed": false
   },
   "outputs": [],
   "source": []
  },
  {
   "cell_type": "markdown",
   "metadata": {},
   "source": [
    "* Remplissez chacune de ces colonnes avec des échantillons tirés de deux gaussiennes. \n",
    "  * Pour se faire, utilisez la fonction normal afin de générer d'abord 100 observations de moyenne 0 et d'écart type 1. Utilisez help afin de connaître les paramètres de la fonction normal. \n",
    "  * Remplissez la première colonne (tableau[:,0]) à l'aide de ces observations. Si vous avez de la difficulté, regardez quelle est la dimension des différents tableaux avec la fonction shape.\n",
    "  * Faites de même pour la deuxième colonne, mais cette fois-ci avec une gaussienne de moyenne 0 et d'écart-type 5.\n"
   ]
  },
  {
   "cell_type": "code",
   "execution_count": null,
   "metadata": {
    "collapsed": false
   },
   "outputs": [],
   "source": []
  },
  {
   "cell_type": "markdown",
   "metadata": {},
   "source": [
    "* Validez vos données à l'aide des fonctions mean et std. Faites-le en utilisant l'argument axis."
   ]
  },
  {
   "cell_type": "code",
   "execution_count": null,
   "metadata": {
    "collapsed": false
   },
   "outputs": [],
   "source": []
  },
  {
   "cell_type": "markdown",
   "metadata": {},
   "source": [
    "# On s'amuse avec des fleurs"
   ]
  },
  {
   "cell_type": "markdown",
   "metadata": {},
   "source": [
    "Nous allons maintenant nous intéresser à un jeu de données réelles, bien que petit. Il s'agit d'[iris](http://en.wikipedia.org/wiki/Iris_flower_data_set), disponible [ici](http://www.iro.umontreal.ca/%7Edift3395/files/iris.txt). Commencez par télécharger le fichier et le mettre dans le mêne dossier que ce fichier notebook, puis chargez le jeu de données avec la fonction numpy loadtxt :\n",
    "\n",
    " "
   ]
  },
  {
   "cell_type": "code",
   "execution_count": null,
   "metadata": {
    "collapsed": false
   },
   "outputs": [],
   "source": [
    "iris = np.loadtxt('iris.txt')"
   ]
  },
  {
   "cell_type": "markdown",
   "metadata": {},
   "source": [
    "### Travailler avec des `array` numpy"
   ]
  },
  {
   "cell_type": "markdown",
   "metadata": {},
   "source": [
    "Vous avez maintenant accès à un *array* nommé iris.\n",
    "\n",
    "* Visualisez des éléments du jeu de données"
   ]
  },
  {
   "cell_type": "code",
   "execution_count": null,
   "metadata": {
    "collapsed": false
   },
   "outputs": [],
   "source": [
    "print iris.shape\n",
    "print iris"
   ]
  },
  {
   "cell_type": "markdown",
   "metadata": {},
   "source": [
    "L'accès aux éléments d'une matrice numpy se fait de manière similaire à une liste python, à la différence qu'on peut accèder à un élément de la sous liste directement. Remarquez la différence pour accèder au premier élément."
   ]
  },
  {
   "cell_type": "code",
   "execution_count": null,
   "metadata": {
    "collapsed": false
   },
   "outputs": [],
   "source": [
    "l = [[0,1,3],\n",
    "     [4,5,6],\n",
    "     [7,8,9]]\n",
    "         \n",
    "l[0][0] == np.array(l)[0,0]"
   ]
  },
  {
   "cell_type": "markdown",
   "metadata": {},
   "source": [
    "L'avantage est qu'on peut déterminer des intervales de manière beaucoup plus efficace. Il est maintenant possible d'utiliser l'opérateur «`:`» pour définir un intervale sur toutes les sous listes en même temps"
   ]
  },
  {
   "cell_type": "code",
   "execution_count": null,
   "metadata": {
    "collapsed": false
   },
   "outputs": [],
   "source": [
    "print np.array(l)\n",
    "print np.array(l)[1:,:2]\n",
    "\n",
    "([arr[:2] for arr in l[1:]]==np.array(l)[1:,:2]).all()"
   ]
  },
  {
   "cell_type": "markdown",
   "metadata": {},
   "source": [
    "Le jeu de données comporte 150 exemples: 50 pour chaque classe. Chaque rangée correspond à un exemple - quatre traits/caractéristiques/features, plus la classe/le label/l'étiquette soit (\"1\", \"2\", ou \"3\").\n",
    " \n",
    "* Accèdez à la 23e rangée de l'`array` iris"
   ]
  },
  {
   "cell_type": "code",
   "execution_count": null,
   "metadata": {
    "collapsed": false
   },
   "outputs": [],
   "source": []
  },
  {
   "cell_type": "markdown",
   "metadata": {},
   "source": [
    "* Accèdez à la 3e colonne\n"
   ]
  },
  {
   "cell_type": "code",
   "execution_count": null,
   "metadata": {
    "collapsed": false
   },
   "outputs": [],
   "source": []
  },
  {
   "cell_type": "markdown",
   "metadata": {},
   "source": [
    "* Maintenant, Accèdez aux éléments des rangées 0 à 9 en ne prenant que les colonne 1 et 2"
   ]
  },
  {
   "cell_type": "code",
   "execution_count": null,
   "metadata": {
    "collapsed": false
   },
   "outputs": [],
   "source": []
  },
  {
   "cell_type": "markdown",
   "metadata": {},
   "source": [
    "L'index négatif peut être utilisé pour parti de la fin plutôt que du début d'une liste. \n"
   ]
  },
  {
   "cell_type": "code",
   "execution_count": null,
   "metadata": {
    "collapsed": false
   },
   "outputs": [],
   "source": [
    "range(10)[-1]==9\n",
    "range(10)[-2]==8\n",
    "# etc"
   ]
  },
  {
   "cell_type": "markdown",
   "metadata": {},
   "source": [
    "On peut aussi utiliser l'index négatif pour définir des intervales avec l'opérateur «`:`». Cela s'applique autant pour les index des listes python que pour les `array` numpy."
   ]
  },
  {
   "cell_type": "code",
   "execution_count": null,
   "metadata": {
    "collapsed": false
   },
   "outputs": [],
   "source": [
    "print range(10)[2:-5]"
   ]
  },
  {
   "cell_type": "markdown",
   "metadata": {},
   "source": [
    "* Utilisez judicieusement l'index pour accèder à la rangée 23 et toutes ses colonnes sauf la dernière"
   ]
  },
  {
   "cell_type": "code",
   "execution_count": null,
   "metadata": {
    "collapsed": false
   },
   "outputs": [],
   "source": []
  },
  {
   "cell_type": "markdown",
   "metadata": {},
   "source": [
    "### Quelques fonctions utiles de numpy"
   ]
  },
  {
   "cell_type": "markdown",
   "metadata": {},
   "source": [
    "Nous poursuivons avec le jeu de données iris (cf section précédente). Assurez-vous que vous comprenez les fonctions suivantes en les exécutant. Elles seront utiles pour la suite."
   ]
  },
  {
   "cell_type": "markdown",
   "metadata": {},
   "source": [
    "**sum** : Somme des éléments d'un vecteur/matrice        \n",
    "> `axis` spécifie sur quelle \"dimension\" il faut faire l'opération"
   ]
  },
  {
   "cell_type": "code",
   "execution_count": null,
   "metadata": {
    "collapsed": false
   },
   "outputs": [],
   "source": [
    "np.sum(iris)\n",
    "np.sum(iris,axis=0)\n",
    "np.sum(iris,axis=1) "
   ]
  },
  {
   "cell_type": "markdown",
   "metadata": {},
   "source": [
    "**min**, **max** : Valeure(s) minimale(s) ou maximale(s) d'un vecteur/matrice\n",
    "> Véfiriez l'effet d'`axis` dans ce cas ci"
   ]
  },
  {
   "cell_type": "code",
   "execution_count": null,
   "metadata": {
    "collapsed": false
   },
   "outputs": [],
   "source": [
    "np.min(iris)\n",
    "np.min(iris,axis=1)\n",
    "np.min(iris,axis=0)\n",
    "\n",
    "np.max(iris,axis=0)"
   ]
  },
  {
   "cell_type": "markdown",
   "metadata": {},
   "source": [
    "**argmax**, **argmin** : Index de(s) valeur(s) minimale(s) ou maximale(s) d'un vecteur/matrice"
   ]
  },
  {
   "cell_type": "code",
   "execution_count": null,
   "metadata": {
    "collapsed": false
   },
   "outputs": [],
   "source": [
    "np.argmin(iris)\n",
    "np.argmin(iris,axis=1)\n",
    "np.argmin(iris,axis=0)\n",
    "\n",
    "np.argmax(iris,axis=0)"
   ]
  },
  {
   "cell_type": "markdown",
   "metadata": {},
   "source": [
    "**abs** : Valeur absolue"
   ]
  },
  {
   "cell_type": "code",
   "execution_count": null,
   "metadata": {
    "collapsed": false
   },
   "outputs": [],
   "source": [
    "np.abs(iris[:,1:4])"
   ]
  },
  {
   "cell_type": "markdown",
   "metadata": {},
   "source": [
    "** \\*\\* ** : exposant"
   ]
  },
  {
   "cell_type": "code",
   "execution_count": null,
   "metadata": {
    "collapsed": false
   },
   "outputs": [],
   "source": [
    "iris[0,:-1]**4.5"
   ]
  },
  {
   "cell_type": "markdown",
   "metadata": {},
   "source": [
    "** shuffle ** : Trier aléatoirement les éléments d'une séquence/vecteur\n",
    "\n"
   ]
  },
  {
   "cell_type": "code",
   "execution_count": null,
   "metadata": {
    "collapsed": false
   },
   "outputs": [],
   "source": [
    "seq = np.arange(10)\n",
    "np.random.shuffle(seq)"
   ]
  },
  {
   "cell_type": "markdown",
   "metadata": {},
   "source": [
    "Il y a beaucoup d'autres fonctions mathématiques utiles : numpy.mean, numpy.std, numpy.cov, numpy.dot, numpy.invert, numpy.unique, numpy.vsplit, numpy.vstack, numpy.hsplit, numpy.hstack. Testez les pour mieux les comprendres ou regardez la [documentation](http://docs.scipy.org/doc/numpy/reference/index.html)"
   ]
  },
  {
   "cell_type": "code",
   "execution_count": null,
   "metadata": {
    "collapsed": false
   },
   "outputs": [],
   "source": []
  },
  {
   "cell_type": "markdown",
   "metadata": {},
   "source": [
    "# Dessiner des fleurs avec Matplotlib"
   ]
  },
  {
   "cell_type": "markdown",
   "metadata": {},
   "source": [
    "La librairie `matplotlib` sert à créer des graphiques. Voici différentes fonction pratiques pour visualiser un ensemble de données comme `iris`.\n",
    "\n",
    "Si on veut afficher des graphiques à l'intérieur d'un notebook, il est important d'ajouter la ligne suivante qui sera valide pour toute les cellules de code suivantes. "
   ]
  },
  {
   "cell_type": "code",
   "execution_count": null,
   "metadata": {
    "collapsed": false
   },
   "outputs": [],
   "source": [
    "%pylab inline"
   ]
  },
  {
   "cell_type": "markdown",
   "metadata": {},
   "source": [
    "Histogramme d'éléments d'un vecteur"
   ]
  },
  {
   "cell_type": "code",
   "execution_count": null,
   "metadata": {
    "collapsed": false
   },
   "outputs": [],
   "source": [
    "import pylab\n",
    "pylab.hist(iris[:,2])"
   ]
  },
  {
   "cell_type": "markdown",
   "metadata": {},
   "source": [
    "Afficher un nuage de points (\"scatterplot\")"
   ]
  },
  {
   "cell_type": "code",
   "execution_count": null,
   "metadata": {
    "collapsed": false
   },
   "outputs": [],
   "source": [
    "pylab.scatter(iris[:,2],iris[:,3])"
   ]
  },
  {
   "cell_type": "markdown",
   "metadata": {},
   "source": [
    "Afficher un nuage de points (\"scatterplot\")"
   ]
  },
  {
   "cell_type": "code",
   "execution_count": null,
   "metadata": {
    "collapsed": false
   },
   "outputs": [],
   "source": [
    "pylab.scatter(iris[:,2],iris[:,3],c=iris[:,-1])"
   ]
  },
  {
   "cell_type": "markdown",
   "metadata": {},
   "source": [
    "Exemple plus compliqué"
   ]
  },
  {
   "cell_type": "code",
   "execution_count": null,
   "metadata": {
    "collapsed": false
   },
   "outputs": [],
   "source": [
    "support = linspace(-3,3,100) # linspace va generer un vecteur de 100 nombres entre -3 et 3\n",
    "fn = sin(support) \n",
    "bruit = randn(100)*0.1 # bruit Gaussien, moyenne=0, variance= sqrt(0.1)\n",
    "pylab.plot(support, fn) \n",
    "pylab.plot(support, fn + bruit,'--')\n",
    "pylab.grid(True) # affiche un grille\n",
    "pylab.xlabel('x')\n",
    "pylab.ylabel('f')\n",
    "pylab.legend(('f(x) sans bruit','f(x) avec bruit'))"
   ]
  },
  {
   "cell_type": "markdown",
   "metadata": {},
   "source": [
    "###Ce n'est qu'un début\n",
    "\n",
    "Vous possédez maintenant quelques notions de base, mais il vous faudra davantage pour être à l'aise. Il vous faut donc adopter une approche exploratrice: feuilletez les tutoriels!"
   ]
  },
  {
   "cell_type": "code",
   "execution_count": null,
   "metadata": {
    "collapsed": false
   },
   "outputs": [],
   "source": []
  }
 ],
 "metadata": {
  "kernelspec": {
   "display_name": "Python 2",
   "language": "python",
   "name": "python2"
  },
  "language_info": {
   "codemirror_mode": {
    "name": "ipython",
    "version": 2
   },
   "file_extension": ".py",
   "mimetype": "text/x-python",
   "name": "python",
   "nbconvert_exporter": "python",
   "pygments_lexer": "ipython2",
   "version": "2.7.13"
  }
 },
 "nbformat": 4,
 "nbformat_minor": 0
}
