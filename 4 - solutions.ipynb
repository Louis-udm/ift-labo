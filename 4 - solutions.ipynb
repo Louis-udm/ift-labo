{
 "cells": [
  {
   "cell_type": "markdown",
   "metadata": {},
   "source": [
    "# Démonstration 4: K-PPV, ensembles d'entraînement et de test, surface de décision. 26/09"
   ]
  },
  {
   "cell_type": "markdown",
   "metadata": {},
   "source": [
    "La semaine dernière vous avez implanté un 1-Plus-Proche-Voisin (1-PPV). Cette semaine vous implanterez un K-PPV. Par contre, cette semaine nous ferons aussi appel à la notion d'ensembles d'entrainement et de test, ainsi qu'à la notion de surface de décision. \n",
    "\n",
    "\n",
    "- Votre première étape est de vous remémorer le fonctionnement du K-PPV.\n",
    "- Nous fournissons le cadre général où il vous faudra insérer le code de k-ppv. On y retrouve notamment des fonctions pour rendre certaines tâches (comme l'affichage des résultats) plus faciles. Cela vous permettra de vous concentrer sur la partie algorithmique de cette démonstration. Téléchargez et le notebook fourni.\n",
    "- Exécutez toutes les cellures de code en cliquant dans le menu Cell/Run all: Vous observez à la dernière cellule le fonctionnement d'un classifieur qui fait une prédiction constante (c'est-à-dire qu'il prédit, pour chaque exemple, l'étiquette 1 (bleu)).\n",
    "Familiarisez-vous avec le code des cinq sections suivantes:\n",
    "    - **Fonctions utilitaires:** définit des fonctions utiles (visualisation, évaluation)\n",
    "    - **Classe k-ppv:** c'est ici que vous devez implanter le classifieur.\n",
    "    - **Chargement et division des données:** charge un jeu de données et le divise en deux parties (train, test)\n",
    "    - **Initialisation et entraînement du classifieur:** entraîne un modèle k-PPV sur les données d'entraînement et obtient les prédictions des étiquettes pour les données de test\n",
    "    - **Matrice de confusion et surface de décision:** Affiche la matrice de confusion et visualise la surface de décision\n",
    "\n",
    "**Votre objectif pour la séance** est de comprendre le fonctionnement général du code fourni puis de compléter la fonctionkppv.compute_predictions().\n",
    "\n"
   ]
  },
  {
   "cell_type": "markdown",
   "metadata": {},
   "source": [
    "### Classes en python"
   ]
  },
  {
   "cell_type": "markdown",
   "metadata": {},
   "source": [
    "Pour cette démo, nous implémenterons k-ppv à l'intérieure d'une **classe**. Vous pouvez lire ce [tutoriel](http://docs.python.org/2/tutorial/classes.html) si vous n'êtes pas à l'aise avec les classes en python. La classe `kppv` est déjà partiellement implémenté à la section **Classe k-ppv**, il ne vous reste qu'à compléter la méthode `compute_predictions`"
   ]
  },
  {
   "cell_type": "markdown",
   "metadata": {},
   "source": [
    "## Fonctions utilitaires"
   ]
  },
  {
   "cell_type": "markdown",
   "metadata": {},
   "source": [
    "Vous n'avez rien à implémenter ici. Lisez simplement le code et familiarisez vous avez. Il sera possible de tester les fonctions `teste` et tout particulièrement `gridplot` à la fin du notebook."
   ]
  },
  {
   "cell_type": "code",
   "execution_count": 1,
   "metadata": {
    "collapsed": false
   },
   "outputs": [
    {
     "name": "stdout",
     "output_type": "stream",
     "text": [
      "Populating the interactive namespace from numpy and matplotlib\n"
     ]
    }
   ],
   "source": [
    "%pylab inline\n",
    "import numpy as np\n",
    "import random\n",
    "import pylab\n",
    "import time"
   ]
  },
  {
   "cell_type": "markdown",
   "metadata": {},
   "source": [
    "Cette fonction calcule la distance Minkowski entre un vecteur x et une matrice Y. Ça vous rappelle quelque chose?"
   ]
  },
  {
   "cell_type": "code",
   "execution_count": 2,
   "metadata": {
    "collapsed": false
   },
   "outputs": [],
   "source": [
    "def minkowski_mat(x,Y,p=2):\n",
    "    return (np.sum((np.abs(x-Y))**p,axis=1))**(1.0/p)"
   ]
  },
  {
   "cell_type": "markdown",
   "metadata": {},
   "source": [
    "La fonction `conf_matrix` prend en entrée:\n",
    "\n",
    " - `etiquettesTest` - les étiquettes de test\n",
    " - `etiquettesPred` - les étiquettes prédites\n",
    "et retourne une table présentant les résultats\n",
    "\n",
    "Voir la définition d'une [matrice de confusion](http://fr.wikipedia.org/wiki/Matrice_de_confusion)."
   ]
  },
  {
   "cell_type": "code",
   "execution_count": 3,
   "metadata": {
    "collapsed": false
   },
   "outputs": [],
   "source": [
    "def conf_matrix(etiquettesTest, etiquettesPred):\n",
    "\n",
    "\tn_classes = max(etiquettesTest)\n",
    "\tmatrix = np.zeros((n_classes,n_classes))\n",
    "\n",
    "\tfor (test,pred) in zip(etiquettesTest, etiquettesPred):\n",
    "\t\tmatrix[test-1,pred-1] += 1\n",
    "\n",
    "\treturn matrix"
   ]
  },
  {
   "cell_type": "markdown",
   "metadata": {},
   "source": [
    "La fonction `gridplot` prend en entrée:\n",
    "\n",
    " - `classifieur` - un classifieur tel que `kppv`\n",
    " - `train` - un ensemble d'entraînement\n",
    " - `test` - un ensemble de test\n",
    " - `n_points` - la taille de la grille pour afficher la surface de décision (x,x)\n",
    "\n",
    "Dépendamment de la puissance de calcul de votre ordinateur, le calcul des prédictions sur la grille peut être lent. Il est préférable de faire vos premiers tests avec une grille moins fine, disons de 25 par 25. Vous pourrez ensuite augmenter la valeur à 50 ou même 100 pour obtenir de plus beaux graphiques."
   ]
  },
  {
   "cell_type": "code",
   "execution_count": 4,
   "metadata": {
    "collapsed": false
   },
   "outputs": [
    {
     "data": {
      "text/plain": [
       "'1.5.3'"
      ]
     },
     "execution_count": 4,
     "metadata": {},
     "output_type": "execute_result"
    }
   ],
   "source": [
    "# fonction plot\n",
    "def gridplot(classifieur,train,test,n_points=50):\n",
    "\n",
    "    train_test = np.vstack((train,test))\n",
    "    (min_x1,max_x1) = (min(train_test[:,0]),max(train_test[:,0]))\n",
    "    (min_x2,max_x2) = (min(train_test[:,1]),max(train_test[:,1]))\n",
    "\n",
    "    xgrid = np.linspace(min_x1,max_x1,num=n_points)\n",
    "    ygrid = np.linspace(min_x2,max_x2,num=n_points)\n",
    "\n",
    "\t# calcule le produit cartesien entre deux listes\n",
    "    # et met les resultats dans un array\n",
    "    thegrid = np.array(combine(xgrid,ygrid))\n",
    "\n",
    "    les_comptes = classifieur.compute_predictions(thegrid)\n",
    "    classesPred = np.argmax(les_comptes,axis=1)+1\n",
    "\n",
    "    # La grille\n",
    "    # Pour que la grille soit plus jolie\n",
    "    #props = dict( alpha=0.3, edgecolors='none' )\n",
    "    #pylab.scatter(thegrid[:,0],thegrid[:,1],c = classesPred, s=50, edgecolors='none', alpha=0.1)\n",
    "    pylab.pcolormesh(xgrid, ygrid, classesPred.reshape((n_points, n_points)).T, alpha=.3)\n",
    "\t# Les points d'entrainment\n",
    "    pylab.scatter(train[:,0], train[:,1], c = train[:,-1], marker = 'v', s=150)\n",
    "    # Les points de test\n",
    "    pylab.scatter(test[:,0], test[:,1], c = test[:,-1], marker = 's', s=150)\n",
    "\n",
    "    ## Un petit hack, parce que la fonctionalite manque a pylab...\n",
    "    h1, = pylab.plot([min_x1], [min_x2], marker='o', c = 'w',ms=5) \n",
    "    h2, = pylab.plot([min_x1], [min_x2], marker='v', c = 'w',ms=5) \n",
    "    h3, = pylab.plot([min_x1], [min_x2], marker='s', c = 'w',ms=5) \n",
    "    handles = [h1,h2,h3]\n",
    "    ## fin du hack\n",
    "\n",
    "    labels = ['grille','train','test']\n",
    "    pylab.legend(handles,labels)\n",
    "\n",
    "    pylab.axis('equal')\n",
    "    pylab.show()\n",
    "    \n",
    "## http://code.activestate.com/recipes/302478/\n",
    "def combine(*seqin):\n",
    "    '''returns a list of all combinations of argument sequences.\n",
    "for example: combine((1,2),(3,4)) returns\n",
    "[[1, 3], [1, 4], [2, 3], [2, 4]]'''\n",
    "    def rloop(seqin,listout,comb):\n",
    "        '''recursive looping function'''\n",
    "        if seqin:                       # any more sequences to process?\n",
    "            for item in seqin[0]:\n",
    "                newcomb=comb+[item]     # add next item to current comb\n",
    "                # call rloop w/ rem seqs, newcomb\n",
    "                rloop(seqin[1:],listout,newcomb)\n",
    "        else:                           # processing last sequence\n",
    "            listout.append(comb)        # comb finished, add to list\n",
    "    listout=[]                      # listout initialization\n",
    "    rloop(seqin,listout,[])         # start recursive process\n",
    "    return listout\n",
    "\n",
    "matplotlib.__version__"
   ]
  },
  {
   "cell_type": "markdown",
   "metadata": {},
   "source": [
    "## Classe k-ppv"
   ]
  },
  {
   "cell_type": "markdown",
   "metadata": {},
   "source": [
    "La classe `kppv` prend en paramètre:\n",
    "\n",
    " - `n_classes` - le nombre de classe du problème\n",
    " - `dist_func` - une fonction pour calculer la distance des points\n",
    " - `n_voisins` - le nombre de voisin à visiter \n",
    "\n",
    "La méthode `train` n'est en fait que le stockage de l'ensemble d'entraînement. Tout le travail du modèle $k$-ppv s'éffectue lors de la prédiction. \n",
    "\n",
    "La méthode `compute_predictions` prend en entré une matrice de données de test (sans étiquettes) et retourne une matrice des comptes pour chaque exemple de test. Cette matrice est donc de dimensions (n_exemple,n_classes).\n",
    "\n",
    "Vous devrez pour chaque point de l'ensemble de test :\n",
    "\n",
    " - **calculer les distances** à tous les points de l'ensemble d'entraînement (en utilisant dist_func)\n",
    " - parcourir les distances pour **trouver les $k$ voisins** du point de test courant\n",
    " - **dénombrer les voisins** correspondant à chaque classe et les sauvegarder dans les_comptes\n",
    "\n",
    "**Note :** La sortie de la méthode `kppv.compute_predictions()` doit être assez générale pour qu'on puisse l'utiliser dans plusieurs contextes. C'est pour cela qu'on vous demande que la fonction retourne une matrice qui contient des comptes pour chaque exemple de test et non pas les classes prédites pour chaque exemple de test."
   ]
  },
  {
   "cell_type": "code",
   "execution_count": 5,
   "metadata": {
    "collapsed": false
   },
   "outputs": [],
   "source": [
    "class kppv:\n",
    "    def __init__(self,n_classes, dist_func=minkowski_mat, n_voisins=1):\n",
    "        self.n_classes = n_classes\n",
    "        self.dist_func = dist_func\n",
    "        self.n_voisins = n_voisins\n",
    "\n",
    "    # La fonction d'entrainement d'un k-PPV est juste le stockage de l'ensemble d'entrainement\n",
    "    def train(self, train_inputs, train_labels):\n",
    "        self.train_inputs = train_inputs\n",
    "        self.train_labels = train_labels\n",
    "\n",
    "    ###\n",
    "    # La fonction de prédiction prend en entrée:\n",
    "    #   test_data - les données de test (sans l'étiquette)\n",
    "    # et retourne une matrice des comptes pour chaque exemple de test. \n",
    "    # Chaque rangée de cette matrice contient, pour chaque classe, le nombre \n",
    "    # de voisins appartenant à cette classe. \n",
    "    ###\n",
    "    def compute_predictions(self, test_data):\n",
    "        # Initialisation de la matrice à retourner\n",
    "        num_test = test_data.shape[0]\n",
    "        les_comptes = np.ones((num_test,self.n_classes))\n",
    "\n",
    "        # Pour chaque point de test\n",
    "        for (i,ex) in enumerate(test_data):\n",
    "            # i est l'indice de la rangée\n",
    "            # ex est la i'eme rangée\n",
    "\n",
    "            # trouve les distances à tous les pointsd'entrainement\n",
    "            distances = self.dist_func(ex,self.train_inputs)\n",
    "            # garde l'index des k plus proches voisins\n",
    "            ind_voisins = np.argsort(distances)[:self.n_voisins]\n",
    "            # liste des k plus proches voisins\n",
    "            cl_voisins = list(self.train_labels[ind_voisins]-1)\n",
    "            \n",
    "            # Dénombre les voisins correspondant à chaque classe les mets dans les_comptes[i,:]\n",
    "            # on prend le min de k et data.shape[0] pour permettre un k plus grand que le nombre d'exemples\n",
    "            for j in range(min(self.n_voisins,self.train_inputs.shape[0])):\n",
    "                cl_voisins[j]\n",
    "                les_comptes[i]\n",
    "                les_comptes[i,cl_voisins[j]] += 1\n",
    "\n",
    "        return les_comptes"
   ]
  },
  {
   "cell_type": "markdown",
   "metadata": {},
   "source": [
    "## Chargement et division des données"
   ]
  },
  {
   "cell_type": "markdown",
   "metadata": {},
   "source": [
    "L'ensemble de donnée `iris` est divisé en deux parties, une pour l'entraînement et l'autre pour éffectuer des tests. Il est important de mélanger aléatoirement l'ensemble de données avant d'éffectuer la division. Pouvez vous dire pourquoi? \n",
    "\n",
    "Seulement deux colonnes des données sont utilisées afin de pouvoir les visualiser en deux dimensions."
   ]
  },
  {
   "cell_type": "code",
   "execution_count": 6,
   "metadata": {
    "collapsed": false
   },
   "outputs": [],
   "source": [
    "# charger iris\n",
    "iris = np.loadtxt('iris.txt')\n",
    "data = iris\n",
    "\n",
    "# Nombre de classes\n",
    "n_classes = 3\n",
    "\n",
    "# Nombre de points d'entrainement\n",
    "n_train = 100\n",
    "\n",
    "# Les colonnes (traits/caracteristiques) sur lesqueles on va entrainer notre modele\n",
    "# Pour que gridplot fonctionne, len(train_cols) devrait etre 2\n",
    "train_cols = [0,1]\n",
    "# L'indice de la colonne contenant les etiquettes\n",
    "target_ind = [data.shape[1] - 1]\n",
    "\n",
    "# Commenter pour avoir des resultats non-deterministes \n",
    "random.seed(3395)\n",
    "# Determiner au hasard des indices pour les exemples d'entrainement et de test\n",
    "inds = range(data.shape[0])\n",
    "random.shuffle(inds)\n",
    "train_inds = inds[:n_train]\n",
    "test_inds = inds[n_train:]\n",
    "\n",
    "# Separer les donnees dans les deux ensembles\n",
    "train_set = data[train_inds,:]\n",
    "train_set = train_set[:,train_cols + target_ind]\n",
    "test_set = data[test_inds,:]\n",
    "test_set = test_set[:,train_cols + target_ind]\n",
    "\n",
    "# Separarer l'ensemble de train et test dans les entrees et les etiquettes\n",
    "train_inputs = train_set[:, :-1]\n",
    "train_labels = train_set[:, -1].astype('int32')\n",
    "test_inputs = test_set[:,:-1]\n",
    "test_labels = test_set[:,-1].astype('int32')"
   ]
  },
  {
   "cell_type": "markdown",
   "metadata": {},
   "source": [
    "## Initialisation et entraînement du classifieur"
   ]
  },
  {
   "cell_type": "markdown",
   "metadata": {},
   "source": [
    "On prends ici la argmax des prédictions pour avoir la classe majoritaire pour chaque exemple du test. \n",
    "\n",
    "N'oubliez pas de réexécuter cette cellule si vous avez modifié votre modèle et voulez afficher la surface de décision à la section suivante. "
   ]
  },
  {
   "cell_type": "code",
   "execution_count": 7,
   "metadata": {
    "collapsed": false
   },
   "outputs": [
    {
     "name": "stdout",
     "output_type": "stream",
     "text": [
      "On va entrainer un  10 -PPV sur  100  exemples d'entrainement\n",
      "Ca nous a pris  0.003141  secondes pour calculer les predictions sur  50  points de test\n"
     ]
    }
   ],
   "source": [
    "# Nombre de voisins (k) dans k-PPV\n",
    "k = 10\n",
    "print \"On va entrainer un \",k, \"-PPV sur \", n_train, \" exemples d'entrainement\"\n",
    "\n",
    "# Créer le classifieur\n",
    "model = kppv(n_classes,dist_func = minkowski_mat, n_voisins = k)\n",
    "# L'entrainer\n",
    "model.train(train_inputs, train_labels)\n",
    "# Obtenir ses predictions\n",
    "t1 = time.clock()\n",
    "les_comptes = model.compute_predictions(test_inputs)\n",
    "t2 = time.clock()\n",
    "print 'Ca nous a pris ', t2-t1, ' secondes pour calculer les predictions sur ', test_inputs.shape[0],' points de test'\n",
    "\n",
    "# Vote majoritaire (+1 puisque nos classes sont de 1 a n)\n",
    "classes_pred = np.argmax(les_comptes,axis=1)+1"
   ]
  },
  {
   "cell_type": "markdown",
   "metadata": {},
   "source": [
    "## Matrice de confusion et surface de décision"
   ]
  },
  {
   "cell_type": "markdown",
   "metadata": {},
   "source": [
    "On imprime ici la matrice de confusion, très utile pour comprendre quelles classes sont moins bien prédites par notre classifieur. On crée aussi un graphique qui affiche les points d'entraînement ainsi que ceux de test et la surface de décision de notre modèle. \n",
    "\n",
    "Avant de passer à la section suivante, assurez-vous que votre implémentation de $k$-ppv fonctionne bien en exécutant ce code. N'hésitez surtout pas à poser des questions si vous avez de la difficulté à interpréter la matrice de confusion et le graphique."
   ]
  },
  {
   "cell_type": "code",
   "execution_count": 8,
   "metadata": {
    "collapsed": false
   },
   "outputs": [
    {
     "name": "stdout",
     "output_type": "stream",
     "text": [
      "La matrice de confusion est:\n",
      "[[ 14.   0.   0.]\n",
      " [  0.  13.   4.]\n",
      " [  0.   4.  15.]]\n",
      "L'erreur de test est de  16.0 %\n"
     ]
    },
    {
     "data": {
      "image/png": "[encoded data removed]",
      "text/plain": [
       "<matplotlib.figure.Figure at 0x10532e290>"
      ]
     },
     "metadata": {},
     "output_type": "display_data"
    },
    {
     "name": "stdout",
     "output_type": "stream",
     "text": [
      "Ca nous a pris  2.219113  secondes pour calculer les predictions sur  40000  points de la grille\n",
      "On va sauvegarder la figure dans  grille__k=10_c1=0_c2=1.png\n"
     ]
    },
    {
     "data": {
      "text/plain": [
       "<matplotlib.figure.Figure at 0x1059b3dd0>"
      ]
     },
     "metadata": {},
     "output_type": "display_data"
    }
   ],
   "source": [
    "# Faire les tests\n",
    "# Matrice de confusion \n",
    "confmat = conf_matrix(test_labels, classes_pred)\n",
    "print 'La matrice de confusion est:'\n",
    "print confmat\n",
    "\n",
    "# Erreur de test\n",
    "sum_preds = np.sum(confmat)\n",
    "sum_correct = np.sum(np.diag(confmat))\n",
    "print \"L'erreur de test est de \", 100*(1.0 - (float(sum_correct) / sum_preds)),\"%\"\n",
    "\n",
    "# Taille de la grille = grid_size x grid_size\n",
    "grid_size = 200\n",
    "\n",
    "if len(train_cols) == 2:\n",
    "    # Surface de decision\n",
    "    t1 = time.clock()\n",
    "    gridplot(model,train_set,test_set,n_points = grid_size)\n",
    "    t2 = time.clock()\n",
    "    print 'Ca nous a pris ', t2-t1, ' secondes pour calculer les predictions sur ', grid_size * grid_size, ' points de la grille'\n",
    "    filename = 'grille_' + '_k=' + str(k) + '_c1=' + str(train_cols[0]) + '_c2=' + str(train_cols[1])+'.png'\n",
    "    print 'On va sauvegarder la figure dans ', filename\n",
    "    pylab.savefig(filename,format='png')\n",
    "else:\n",
    "    print 'Trop de dimensions (', len(train_cols),') pour pouvoir afficher la surface de decision'"
   ]
  },
  {
   "cell_type": "markdown",
   "metadata": {},
   "source": [
    "## Expérimentations"
   ]
  },
  {
   "cell_type": "markdown",
   "metadata": {},
   "source": [
    "Maintenant que tous fonctionne, il est temps de faire des expérimentations pour mieux comprendre l'importance de différents facteurs. Travaillez directement sur le code précédent pour effectuer ces tests. \n",
    "\n",
    "- Variez les tailles de `train_set` et `test_set` et observez l'impact sur l'erreur de test et la surface de décision\n"
   ]
  },
  {
   "cell_type": "markdown",
   "metadata": {},
   "source": [
    "> À vous d'expérimenter avec le code précédent.\n",
    "\n",
    "> Vous devriez voir que l'erreur sur l'ensemble de test augmente à mesure que l'ensemble d'entraînement est plus petite. On va toujours essayer\n",
    "> d'avoir un ensemble d'entraînement le plus grand possible afin de s'approcher au maximum de la *distribution naturelle* des exemples. "
   ]
  },
  {
   "cell_type": "markdown",
   "metadata": {},
   "source": [
    "- Essayez $k=1,2,\\dots,10$. \n",
    "  - Est-ce que l'erreur de test change? \n",
    "  - Est-ce qu'il existe un $k$ optimal? \n",
    "  - Est-ce qu'en regardant seulement la surface de décision vous êtes en mesure de dire quel $k$ est optimal?\n"
   ]
  },
  {
   "cell_type": "markdown",
   "metadata": {},
   "source": [
    "> Encore une fois, à vous d'expérimenter avec le code précédent.\n",
    "\n",
    "> L'erreur de test devrait changer d'un $k$ à l'autre. Avec le même *seed* que dans ce code, vous devriez trouver $k=7$ comme optimal. \n",
    "> Remarquez que la fluctuation de l'erreur de test est en dent de scie et de quelque % seulement pour des $k$ allant de 1 à 10 dans ce cas ci.\n",
    "> Il est difficile de voir sur le graphique de la surface de décision\n",
    "> quel $k$ est optimal. Cependant, la réduction de la capacité du modèle lorsque $k$ augmente est visible avec les frontières de \n",
    "> la surface de décision qui deviennent plus lisse. C'est-à-dire que plus $k$ est grand, moins la puissance de représentation du modèle est forte. Le cas extrème de $k=1$ est un exemple frappant où le modèle est capable d'apprendre par coeur tout les ensembles d'entraînement. Une grande capacité est importante pour pouvoir représenter des données complexes, mais elle vient avec le danger de pouvoir sur-apprendre l'ensemble d'entraînement et mal généraliser sur l'ensemble de test comme dans le cas $k=1$."
   ]
  },
  {
   "cell_type": "markdown",
   "metadata": {},
   "source": [
    "- Divisez l'ensemble d'entrainement en 3 parties: `train_set`, `valid_set` et `test_set` (de taille 100, 25 et 25, par exemple). Entrainez $k$-ppv sur `train_set`, choisissez la valeur optimale de `k` en testant sur `valid_set` et obtenez un estimé de l'erreur de généralisation en testant sur `test_set`. Cette fois-ci, utilisez tous les (quatre) traits/caractéristiques/features. D'après-vous, à quoi sert l'ensemble de validation?\n",
    "  - Est-ce qu'il y a un écart entre l'erreur de validation et l'erreur de test pour le $k$ optimal trouvé avec l'ensemble de validation? Est-ce qu'il devrait y en avoir? (la réponse se trouve dans la question)"
   ]
  },
  {
   "cell_type": "code",
   "execution_count": 9,
   "metadata": {
    "collapsed": false
   },
   "outputs": [],
   "source": [
    "def experience(n_train=100,n_valid=25,train_cols=[0,1],ks=[1],seed=3395):\n",
    "\n",
    "    # L'indice de la colonne contenant les etiquettes\n",
    "    target_ind = [data.shape[1] - 1]\n",
    "\n",
    "    # Commenter pour avoir des resultats non-deterministes \n",
    "    if seed:\n",
    "        random.seed(seed)\n",
    "    # Determiner au hasard des indices pour les exemples d'entrainement et de test\n",
    "    inds = range(data.shape[0])\n",
    "    random.shuffle(inds)\n",
    "    assert n_train+n_valid < data.shape, \"il ne reste aucun exemple pour l'ensemble de test\"\n",
    "    train_inds = inds[:n_train]\n",
    "    valid_inds = inds[n_train:n_train+n_valid]\n",
    "    test_inds = inds[n_train+n_valid:]\n",
    "\n",
    "    # Separer les donnees dans les deux ensembles\n",
    "    train_set = data[train_inds,:]\n",
    "    train_set = train_set[:,train_cols + target_ind]\n",
    "    valid_set = data[valid_inds,:]\n",
    "    valid_set = valid_set[:,train_cols+target_ind]\n",
    "    test_set = data[test_inds,:]\n",
    "    test_set = test_set[:,train_cols + target_ind]\n",
    "    \n",
    "    # Separarer l'ensemble de test dans les entrees et les etiquettes\n",
    "    train_inputs = train_set[:, :-1]\n",
    "    train_labels = train_set[:, -1].astype('int32')\n",
    "    valid_inputs = valid_set[:,:-1]\n",
    "    valid_labels = valid_set[:,-1].astype('int32')\n",
    "    test_inputs = test_set[:,:-1]\n",
    "    test_labels = test_set[:,-1].astype('int32')\n",
    "    \n",
    "    best_result = float('inf')\n",
    "    best_k = 0\n",
    "    best_model = None\n",
    "    for k in ks:\n",
    "        # Créer le classifieur\n",
    "        model = kppv(n_classes,dist_func = minkowski_mat, n_voisins = k)\n",
    "        # L'entrainer\n",
    "        model.train(train_inputs, train_labels)\n",
    "        # Obtenir ses predictions\n",
    "        les_comptes = model.compute_predictions(valid_inputs)\n",
    "\n",
    "        # Vote majoritaire (+1 puisque nos classes sont de 1 a n)\n",
    "        classes_pred = np.argmax(les_comptes,axis=1)+1\n",
    "        \n",
    "        result = (1.0-(valid_labels==classes_pred).mean())\n",
    "        \n",
    "        if result < best_result:\n",
    "            best_model = model\n",
    "            best_k = k\n",
    "            best_result = result\n",
    "    \n",
    "    return train_set, valid_set, test_set, best_model, best_k\n",
    "    \n",
    "def graphiques(train_set, valid_set, test_set, model):\n",
    "\n",
    "    valid_inputs = valid_set[:,:-1]\n",
    "    test_inputs = test_set[:,:-1]\n",
    "    valid_labels = valid_set[:,-1].astype('int32')\n",
    "    test_labels = test_set[:,-1].astype('int32')\n",
    "    \n",
    "    les_comptes = model.compute_predictions(valid_inputs)\n",
    "    valid_pred = np.argmax(les_comptes,axis=1)+1\n",
    "    les_comptes = model.compute_predictions(test_inputs)\n",
    "    test_pred = np.argmax(les_comptes,axis=1)+1    \n",
    "    \n",
    "    # Matrice de confusion\n",
    "    confmat = conf_matrix(valid_labels, valid_pred)\n",
    "    print \"La matrice de confusion pour l'ensemble de validation est:\"\n",
    "    print confmat\n",
    "    \n",
    "    # Matrice de confusion\n",
    "    confmat = conf_matrix(test_labels, test_pred)\n",
    "    print \"La matrice de confusion pour l'ensemble de test est:\"\n",
    "    print confmat\n",
    "\n",
    "    # Erreur de validation\n",
    "    print \"L'erreur de validation est de \", 100.*(1.0 - (valid_labels==valid_pred)).mean(),\"%\"\n",
    "    \n",
    "    # Erreur de test\n",
    "    print \"L'erreur de test est de \", 100.*(1.0 - (test_labels==test_pred)).mean(),\"%\"\n",
    "\n",
    "    # Taille de la grille = grid_size x grid_size\n",
    "    grid_size = 200\n",
    "\n",
    "    if len(train_cols) == 2:\n",
    "        # Surface de decision\n",
    "        gridplot(model,train_set,test_set,n_points = grid_size)\n",
    "        print 'On va sauvegarder la figure dans ', filename\n",
    "        pylab.savefig(filename,format='png')\n",
    "    else:\n",
    "        print 'Trop de dimensions (', len(train_cols),') pour pouvoir afficher la surface de decision'"
   ]
  },
  {
   "cell_type": "code",
   "execution_count": 15,
   "metadata": {
    "collapsed": false
   },
   "outputs": [
    {
     "name": "stdout",
     "output_type": "stream",
     "text": [
      "le meilleur k est  25\n",
      "La matrice de confusion pour l'ensemble de validation est:\n",
      "[[  3.   0.   0.]\n",
      " [  0.   9.   0.]\n",
      " [  0.   0.  13.]]\n",
      "La matrice de confusion pour l'ensemble de test est:\n",
      "[[ 11.   0.   0.]\n",
      " [  0.   8.   0.]\n",
      " [  0.   0.   6.]]\n",
      "L'erreur de validation est de  0.0 %\n",
      "L'erreur de test est de  0.0 %\n"
     ]
    },
    {
     "data": {
      "image/png": "[encoded data removed]",
      "text/plain": [
       "<matplotlib.figure.Figure at 0x103da7850>"
      ]
     },
     "metadata": {},
     "output_type": "display_data"
    },
    {
     "name": "stdout",
     "output_type": "stream",
     "text": [
      "On va sauvegarder la figure dans  grille__k=10_c1=0_c2=1.png\n"
     ]
    },
    {
     "data": {
      "text/plain": [
       "<matplotlib.figure.Figure at 0x1053ed250>"
      ]
     },
     "metadata": {},
     "output_type": "display_data"
    }
   ],
   "source": [
    "train_set, valid_set, test_set, best_model, best_k = experience(n_train=100,n_valid=25,train_cols=[2,3],ks=xrange(1,100))\n",
    "print \"le meilleur k est \",best_k\n",
    "graphiques(train_set, valid_set, test_set, best_model)"
   ]
  },
  {
   "cell_type": "markdown",
   "metadata": {},
   "source": [
    "- Décommentez la ligne `random.seed(3395)` et roulez votre code plusieurs fois pour obtenir des statistiques sur les erreurs de validation et de test. Vous pouvez écrire une boucle `for` qui exécute le même code plusieurs fois; 10 fois devrait suffire. Calculez l'écart-type et la moyenne de chaque erreur."
   ]
  },
  {
   "cell_type": "code",
   "execution_count": 11,
   "metadata": {
    "collapsed": false
   },
   "outputs": [
    {
     "name": "stdout",
     "output_type": "stream",
     "text": [
      "[ 12.  36.  16.  16.  20.  20.  16.  24.  36.  32.]\n",
      "Moyenne 22.8\n",
      "Écart-type 8.4\n"
     ]
    }
   ],
   "source": [
    "N = 10\n",
    "results = np.zeros(N)\n",
    "# on test N fois le modèle sur les même ensemble\n",
    "for i in range(N):\n",
    "    train_set, valid_set, test_set, best_model, best_k = experience(n_train=100,n_valid=25,train_cols=[0,1],ks=[7],seed=False)\n",
    "    \n",
    "    test_inputs = test_set[:,:-1]\n",
    "    test_labels = test_set[:,-1].astype('int32')\n",
    "    \n",
    "    les_comptes = model.compute_predictions(test_inputs)\n",
    "    test_pred = np.argmax(les_comptes,axis=1)+1    \n",
    "    \n",
    "    # Erreur de test\n",
    "    results[i] = 100.*(1.0 - (test_labels==test_pred)).mean()\n",
    "\n",
    "# l'écart-type est considérable étant donné la moyenne d'erreur\n",
    "# on voit que le seed est important pour la reproductibilité des expériences\n",
    "print results\n",
    "print \"Moyenne\", results.mean()\n",
    "print \"Écart-type\", results.std()"
   ]
  }
 ],
 "metadata": {
  "kernelspec": {
   "display_name": "Python 2",
   "language": "python",
   "name": "python2"
  },
  "language_info": {
   "codemirror_mode": {
    "name": "ipython",
    "version": 2
   },
   "file_extension": ".py",
   "mimetype": "text/x-python",
   "name": "python",
   "nbconvert_exporter": "python",
   "pygments_lexer": "ipython2",
   "version": "2.7.13"
  }
 },
 "nbformat": 4,
 "nbformat_minor": 0
}
